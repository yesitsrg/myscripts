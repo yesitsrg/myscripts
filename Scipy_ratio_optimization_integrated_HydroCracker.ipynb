{
 "cells": [
  {
   "cell_type": "code",
   "execution_count": 297,
   "metadata": {},
   "outputs": [],
   "source": [
    "import os\n",
    "cwd = r\"C:\\Users\\RahulG\\Downloads\\Optimization\"\n",
    "os.chdir(cwd)\n",
    "import pandas as pd, numpy as np,time"
   ]
  },
  {
   "cell_type": "code",
   "execution_count": 2,
   "metadata": {},
   "outputs": [],
   "source": [
    "from scipy.optimize import minimize\n",
    "import numpy as np\n",
    "import pandas as pd\n",
    "\n",
    "data={\"time_studied\" : [12, 10, 4, 7, 6, 11, 6,5],\\\n",
    "\"hours_slept\" : [8, 7, 1, 3, 8, 6, 5,5],\\\n",
    "\"TARGET\" : [10, 9, 2, 5, 7, 8, 8.5, 6],\\\n",
    "\"TARGET1\" : [6, 8.5, 8, 7, 5, 2, 9, 10]}\n",
    "\n",
    "\n",
    "df_temp=pd.DataFrame(data)\n",
    "\n",
    "# X = np.array([time_studied, hours_slept]).T\n",
    "# y = np.array([grade]).T \n",
    "X=df_temp[[\"time_studied\",\"hours_slept\"]]\n",
    "y=df_temp[\"TARGET\"]\n",
    "y1=df_temp[\"TARGET1\"]"
   ]
  },
  {
   "cell_type": "code",
   "execution_count": 3,
   "metadata": {},
   "outputs": [],
   "source": [
    "from sklearn.ensemble import RandomForestRegressor"
   ]
  },
  {
   "cell_type": "code",
   "execution_count": 4,
   "metadata": {},
   "outputs": [
    {
     "data": {
      "text/plain": [
       "RandomForestRegressor()"
      ]
     },
     "execution_count": 4,
     "metadata": {},
     "output_type": "execute_result"
    }
   ],
   "source": [
    "model =RandomForestRegressor()\n",
    "model.fit(X,y)"
   ]
  },
  {
   "cell_type": "code",
   "execution_count": null,
   "metadata": {},
   "outputs": [],
   "source": []
  },
  {
   "cell_type": "code",
   "execution_count": 5,
   "metadata": {},
   "outputs": [
    {
     "data": {
      "text/plain": [
       "RandomForestRegressor()"
      ]
     },
     "execution_count": 5,
     "metadata": {},
     "output_type": "execute_result"
    }
   ],
   "source": [
    "model1 =RandomForestRegressor()\n",
    "model1.fit(X,y1)"
   ]
  },
  {
   "cell_type": "code",
   "execution_count": 6,
   "metadata": {},
   "outputs": [
    {
     "data": {
      "text/plain": [
       "array([9.23 , 8.81 , 3.535, 5.545, 7.605, 8.285, 7.69 , 6.495])"
      ]
     },
     "execution_count": 6,
     "metadata": {},
     "output_type": "execute_result"
    }
   ],
   "source": [
    "model.predict(X)"
   ]
  },
  {
   "cell_type": "code",
   "execution_count": 7,
   "metadata": {},
   "outputs": [
    {
     "data": {
      "text/plain": [
       "array([5.23 , 6.74 , 8.16 , 7.53 , 5.885, 3.985, 8.545, 9.355])"
      ]
     },
     "execution_count": 7,
     "metadata": {},
     "output_type": "execute_result"
    }
   ],
   "source": [
    "model1.predict(X)"
   ]
  },
  {
   "cell_type": "code",
   "execution_count": 8,
   "metadata": {},
   "outputs": [],
   "source": [
    "#Define Constrains here\n",
    "\n",
    "bnds = [(5,12), (6,8)]\n"
   ]
  },
  {
   "cell_type": "code",
   "execution_count": 10,
   "metadata": {},
   "outputs": [
    {
     "data": {
      "text/plain": [
       "Index(['time_studied', 'hours_slept', 'TARGET', 'TARGET1'], dtype='object')"
      ]
     },
     "execution_count": 10,
     "metadata": {},
     "output_type": "execute_result"
    }
   ],
   "source": [
    "df_temp.columns"
   ]
  },
  {
   "cell_type": "code",
   "execution_count": 15,
   "metadata": {},
   "outputs": [
    {
     "data": {
      "text/plain": [
       "[7.625, 5.375]"
      ]
     },
     "execution_count": 15,
     "metadata": {},
     "output_type": "execute_result"
    }
   ],
   "source": []
  },
  {
   "cell_type": "code",
   "execution_count": 16,
   "metadata": {},
   "outputs": [
    {
     "data": {
      "text/plain": [
       "[7.625, 5.375]"
      ]
     },
     "execution_count": 16,
     "metadata": {},
     "output_type": "execute_result"
    }
   ],
   "source": [
    "#starting point\n",
    "\n",
    "x0 = (df_temp[[\"time_studied\",'hours_slept']].mean()).to_list()\n",
    "x0"
   ]
  },
  {
   "cell_type": "code",
   "execution_count": 19,
   "metadata": {},
   "outputs": [],
   "source": [
    "#Objective func\n",
    "#-ve sign to maximize\n",
    "\n",
    "def temp_funct(x):\n",
    "    NUM=model.predict(np.array([x]))\n",
    "    DEN=model1.predict(np.array([x]))\n",
    "    \n",
    "    return -(NUM/DEN)"
   ]
  },
  {
   "cell_type": "code",
   "execution_count": 104,
   "metadata": {},
   "outputs": [],
   "source": [
    "method_list=['Nelder-Mead',\\\n",
    "'Powell',\\\n",
    "'CG',\\\n",
    "'BFGS',\\\n",
    "# 'Newton-CG',\\\n",
    "'L-BFGS-B',\\\n",
    "'TNC',\\\n",
    "'COBYLA',\\\n",
    "'SLSQP',\\\n",
    "'trust-constr']#,\\\n",
    "# 'dogleg',\\\n",
    "# 'trust-ncg',\\\n",
    "# 'trust-exact']#,\\\n",
    "# # 'trust-krylov']"
   ]
  },
  {
   "cell_type": "code",
   "execution_count": 105,
   "metadata": {},
   "outputs": [
    {
     "data": {
      "text/plain": [
       "'trust-exact'"
      ]
     },
     "execution_count": 105,
     "metadata": {},
     "output_type": "execute_result"
    }
   ],
   "source": [
    "meth"
   ]
  },
  {
   "cell_type": "code",
   "execution_count": 106,
   "metadata": {},
   "outputs": [
    {
     "name": "stderr",
     "output_type": "stream",
     "text": [
      "c:\\users\\rahulg\\appdata\\local\\programs\\python\\python37\\lib\\site-packages\\scipy\\optimize\\_minimize.py:522: RuntimeWarning: Method Nelder-Mead cannot handle constraints nor bounds.\n",
      "  RuntimeWarning)\n"
     ]
    },
    {
     "name": "stdout",
     "output_type": "stream",
     "text": [
      "Nelder-Mead\n",
      "[8.00625 5.64375]\n",
      "-1.113555713271824\n",
      "\n",
      "\n"
     ]
    },
    {
     "name": "stderr",
     "output_type": "stream",
     "text": [
      "c:\\users\\rahulg\\appdata\\local\\programs\\python\\python37\\lib\\site-packages\\scipy\\optimize\\_minimize.py:522: RuntimeWarning: Method Powell cannot handle constraints nor bounds.\n",
      "  RuntimeWarning)\n"
     ]
    },
    {
     "name": "stdout",
     "output_type": "stream",
     "text": [
      "Powell\n",
      "[19.54135773  6.71648593]\n",
      "-1.9408033826638476\n",
      "\n",
      "\n",
      "CG\n",
      "[7.625 5.375]\n",
      "[-0.87995269]\n",
      "\n",
      "\n",
      "BFGS\n",
      "[7.625 5.375]\n",
      "[-0.87995269]\n",
      "\n",
      "\n",
      "L-BFGS-B\n",
      "[7.625 6.   ]\n",
      "[-1.07197764]\n",
      "\n",
      "\n",
      "TNC"
     ]
    },
    {
     "name": "stderr",
     "output_type": "stream",
     "text": [
      "c:\\users\\rahulg\\appdata\\local\\programs\\python\\python37\\lib\\site-packages\\scipy\\optimize\\_minimize.py:522: RuntimeWarning: Method CG cannot handle constraints nor bounds.\n",
      "  RuntimeWarning)\n",
      "c:\\users\\rahulg\\appdata\\local\\programs\\python\\python37\\lib\\site-packages\\scipy\\optimize\\_minimize.py:522: RuntimeWarning: Method BFGS cannot handle constraints nor bounds.\n",
      "  RuntimeWarning)\n"
     ]
    },
    {
     "name": "stdout",
     "output_type": "stream",
     "text": [
      "\n",
      "[7.625 6.   ]\n",
      "[-1.07197764]\n",
      "\n",
      "\n",
      "COBYLA\n",
      "[8.79618239 6.55719931]\n",
      "-1.243795620437956\n",
      "\n",
      "\n",
      "SLSQP\n",
      "[7.625 6.   ]\n",
      "-1.0719776380153738\n",
      "\n",
      "\n",
      "trust-constr\n",
      "[7.50080386 6.00141574]\n",
      "[-1.11311239]\n",
      "\n",
      "\n"
     ]
    },
    {
     "name": "stderr",
     "output_type": "stream",
     "text": [
      "c:\\users\\rahulg\\appdata\\local\\programs\\python\\python37\\lib\\site-packages\\scipy\\optimize\\_minimize.py:528: RuntimeWarning: Method COBYLA cannot handle bounds.\n",
      "  RuntimeWarning)\n",
      "c:\\users\\rahulg\\appdata\\local\\programs\\python\\python37\\lib\\site-packages\\scipy\\optimize\\_hessian_update_strategy.py:187: UserWarning: delta_grad == 0.0. Check if the approximated function is linear. If the function is linear better results can be obtained by defining the Hessian as zero instead of using quasi-Newton approximations.\n",
      "  'approximations.', UserWarning)\n",
      "c:\\users\\rahulg\\appdata\\local\\programs\\python\\python37\\lib\\site-packages\\scipy\\optimize\\_hessian_update_strategy.py:187: UserWarning: delta_grad == 0.0. Check if the approximated function is linear. If the function is linear better results can be obtained by defining the Hessian as zero instead of using quasi-Newton approximations.\n",
      "  'approximations.', UserWarning)\n"
     ]
    }
   ],
   "source": [
    "for meth in method_list:\n",
    "    result=minimize(temp_funct, x0, method=meth,bounds=bnds,options={'disp': False})\n",
    "    print(meth)\n",
    "    print(result.x)\n",
    "    print(result.fun)\n",
    "    print(\"\\n\")"
   ]
  },
  {
   "cell_type": "code",
   "execution_count": 109,
   "metadata": {},
   "outputs": [
    {
     "name": "stdout",
     "output_type": "stream",
     "text": [
      "`gtol` termination condition is satisfied.\n",
      "Number of iterations: 12, function evaluations: 9, CG iterations: 3, optimality: 7.52e-09, constraint violation: 0.00e+00, execution time: 0.11 s.\n"
     ]
    },
    {
     "name": "stderr",
     "output_type": "stream",
     "text": [
      "c:\\users\\rahulg\\appdata\\local\\programs\\python\\python37\\lib\\site-packages\\scipy\\optimize\\_hessian_update_strategy.py:187: UserWarning: delta_grad == 0.0. Check if the approximated function is linear. If the function is linear better results can be obtained by defining the Hessian as zero instead of using quasi-Newton approximations.\n",
      "  'approximations.', UserWarning)\n",
      "c:\\users\\rahulg\\appdata\\local\\programs\\python\\python37\\lib\\site-packages\\scipy\\optimize\\_hessian_update_strategy.py:187: UserWarning: delta_grad == 0.0. Check if the approximated function is linear. If the function is linear better results can be obtained by defining the Hessian as zero instead of using quasi-Newton approximations.\n",
      "  'approximations.', UserWarning)\n"
     ]
    }
   ],
   "source": [
    "result=minimize(temp_funct, x0, method='trust-constr',bounds=bnds,options={'disp': True})"
   ]
  },
  {
   "cell_type": "code",
   "execution_count": 110,
   "metadata": {},
   "outputs": [
    {
     "data": {
      "text/plain": [
       "array([7.50080386, 6.00141574])"
      ]
     },
     "execution_count": 110,
     "metadata": {},
     "output_type": "execute_result"
    }
   ],
   "source": [
    "#show the result\n",
    "result.x"
   ]
  },
  {
   "cell_type": "code",
   "execution_count": 111,
   "metadata": {},
   "outputs": [
    {
     "data": {
      "text/plain": [
       "array([-1.11311239])"
      ]
     },
     "execution_count": 111,
     "metadata": {},
     "output_type": "execute_result"
    }
   ],
   "source": [
    "result.fun"
   ]
  },
  {
   "cell_type": "code",
   "execution_count": 112,
   "metadata": {},
   "outputs": [
    {
     "data": {
      "text/plain": [
       "'`gtol` termination condition is satisfied.'"
      ]
     },
     "execution_count": 112,
     "metadata": {},
     "output_type": "execute_result"
    }
   ],
   "source": [
    "result.message"
   ]
  },
  {
   "cell_type": "markdown",
   "metadata": {},
   "source": [
    "### Black box optimizer"
   ]
  },
  {
   "cell_type": "code",
   "execution_count": 171,
   "metadata": {},
   "outputs": [],
   "source": [
    "from yabox import DE"
   ]
  },
  {
   "cell_type": "code",
   "execution_count": 174,
   "metadata": {},
   "outputs": [],
   "source": [
    "de=DE(temp_funct,bnds,maxiters=1000)"
   ]
  },
  {
   "cell_type": "code",
   "execution_count": 175,
   "metadata": {},
   "outputs": [
    {
     "data": {
      "application/vnd.jupyter.widget-view+json": {
       "model_id": "997efeac5f6c4f17ad7ed2584c3b9804",
       "version_major": 2,
       "version_minor": 0
      },
      "text/plain": [
       "HBox(children=(IntProgress(value=0, description='Optimizing (DE)', max=1000, style=ProgressStyle(description_w…"
      ]
     },
     "metadata": {},
     "output_type": "display_data"
    },
    {
     "name": "stdout",
     "output_type": "stream",
     "text": [
      "\n"
     ]
    },
    {
     "data": {
      "text/plain": [
       "(array([[11.1706256,  6.8662498]]), array([-2.16957606]))"
      ]
     },
     "execution_count": 175,
     "metadata": {},
     "output_type": "execute_result"
    }
   ],
   "source": [
    "de.solve(show_progress=True)"
   ]
  },
  {
   "cell_type": "code",
   "execution_count": null,
   "metadata": {},
   "outputs": [],
   "source": []
  },
  {
   "cell_type": "markdown",
   "metadata": {},
   "source": [
    "### result cross checking"
   ]
  },
  {
   "cell_type": "code",
   "execution_count": 139,
   "metadata": {},
   "outputs": [
    {
     "data": {
      "text/plain": [
       "[(5, 12), (6, 8)]"
      ]
     },
     "execution_count": 139,
     "metadata": {},
     "output_type": "execute_result"
    }
   ],
   "source": [
    "bnds"
   ]
  },
  {
   "cell_type": "code",
   "execution_count": 147,
   "metadata": {},
   "outputs": [],
   "source": [
    "sample_point_feature1=0.25\n",
    "sample_point_feature2=0.25"
   ]
  },
  {
   "cell_type": "code",
   "execution_count": 140,
   "metadata": {},
   "outputs": [],
   "source": [
    "Feature1=np.arange(bnds[0][0],bnds[0][1],sample_point_feature1)"
   ]
  },
  {
   "cell_type": "code",
   "execution_count": 148,
   "metadata": {},
   "outputs": [],
   "source": [
    "Feature2=np.arange(bnds[1][0],bnds[1][1],sample_point_feature2)"
   ]
  },
  {
   "cell_type": "code",
   "execution_count": 149,
   "metadata": {},
   "outputs": [
    {
     "data": {
      "text/plain": [
       "array([ 5.  ,  5.25,  5.5 ,  5.75,  6.  ,  6.25,  6.5 ,  6.75,  7.  ,\n",
       "        7.25,  7.5 ,  7.75,  8.  ,  8.25,  8.5 ,  8.75,  9.  ,  9.25,\n",
       "        9.5 ,  9.75, 10.  , 10.25, 10.5 , 10.75, 11.  , 11.25, 11.5 ,\n",
       "       11.75])"
      ]
     },
     "execution_count": 149,
     "metadata": {},
     "output_type": "execute_result"
    }
   ],
   "source": [
    "Feature1"
   ]
  },
  {
   "cell_type": "code",
   "execution_count": 150,
   "metadata": {},
   "outputs": [
    {
     "data": {
      "text/plain": [
       "array([6.  , 6.25, 6.5 , 6.75, 7.  , 7.25, 7.5 , 7.75])"
      ]
     },
     "execution_count": 150,
     "metadata": {},
     "output_type": "execute_result"
    }
   ],
   "source": [
    "Feature2"
   ]
  },
  {
   "cell_type": "code",
   "execution_count": 151,
   "metadata": {},
   "outputs": [
    {
     "data": {
      "text/plain": [
       "(28, 8, 224)"
      ]
     },
     "execution_count": 151,
     "metadata": {},
     "output_type": "execute_result"
    }
   ],
   "source": [
    "len(Feature1),len(Feature2),len(Feature1)*len(Feature2)"
   ]
  },
  {
   "cell_type": "code",
   "execution_count": 152,
   "metadata": {},
   "outputs": [],
   "source": [
    "temp_list=[]"
   ]
  },
  {
   "cell_type": "code",
   "execution_count": 153,
   "metadata": {},
   "outputs": [],
   "source": [
    "for i in Feature1:\n",
    "    for j in Feature2:\n",
    "        temp_list.append([i,j])"
   ]
  },
  {
   "cell_type": "code",
   "execution_count": 154,
   "metadata": {},
   "outputs": [
    {
     "data": {
      "text/plain": [
       "[[5.0, 6.0],\n",
       " [5.0, 6.25],\n",
       " [5.0, 6.5],\n",
       " [5.0, 6.75],\n",
       " [5.0, 7.0],\n",
       " [5.0, 7.25],\n",
       " [5.0, 7.5],\n",
       " [5.0, 7.75],\n",
       " [5.25, 6.0],\n",
       " [5.25, 6.25],\n",
       " [5.25, 6.5],\n",
       " [5.25, 6.75],\n",
       " [5.25, 7.0],\n",
       " [5.25, 7.25],\n",
       " [5.25, 7.5],\n",
       " [5.25, 7.75],\n",
       " [5.5, 6.0],\n",
       " [5.5, 6.25],\n",
       " [5.5, 6.5],\n",
       " [5.5, 6.75],\n",
       " [5.5, 7.0],\n",
       " [5.5, 7.25],\n",
       " [5.5, 7.5],\n",
       " [5.5, 7.75],\n",
       " [5.75, 6.0],\n",
       " [5.75, 6.25],\n",
       " [5.75, 6.5],\n",
       " [5.75, 6.75],\n",
       " [5.75, 7.0],\n",
       " [5.75, 7.25],\n",
       " [5.75, 7.5],\n",
       " [5.75, 7.75],\n",
       " [6.0, 6.0],\n",
       " [6.0, 6.25],\n",
       " [6.0, 6.5],\n",
       " [6.0, 6.75],\n",
       " [6.0, 7.0],\n",
       " [6.0, 7.25],\n",
       " [6.0, 7.5],\n",
       " [6.0, 7.75],\n",
       " [6.25, 6.0],\n",
       " [6.25, 6.25],\n",
       " [6.25, 6.5],\n",
       " [6.25, 6.75],\n",
       " [6.25, 7.0],\n",
       " [6.25, 7.25],\n",
       " [6.25, 7.5],\n",
       " [6.25, 7.75],\n",
       " [6.5, 6.0],\n",
       " [6.5, 6.25],\n",
       " [6.5, 6.5],\n",
       " [6.5, 6.75],\n",
       " [6.5, 7.0],\n",
       " [6.5, 7.25],\n",
       " [6.5, 7.5],\n",
       " [6.5, 7.75],\n",
       " [6.75, 6.0],\n",
       " [6.75, 6.25],\n",
       " [6.75, 6.5],\n",
       " [6.75, 6.75],\n",
       " [6.75, 7.0],\n",
       " [6.75, 7.25],\n",
       " [6.75, 7.5],\n",
       " [6.75, 7.75],\n",
       " [7.0, 6.0],\n",
       " [7.0, 6.25],\n",
       " [7.0, 6.5],\n",
       " [7.0, 6.75],\n",
       " [7.0, 7.0],\n",
       " [7.0, 7.25],\n",
       " [7.0, 7.5],\n",
       " [7.0, 7.75],\n",
       " [7.25, 6.0],\n",
       " [7.25, 6.25],\n",
       " [7.25, 6.5],\n",
       " [7.25, 6.75],\n",
       " [7.25, 7.0],\n",
       " [7.25, 7.25],\n",
       " [7.25, 7.5],\n",
       " [7.25, 7.75],\n",
       " [7.5, 6.0],\n",
       " [7.5, 6.25],\n",
       " [7.5, 6.5],\n",
       " [7.5, 6.75],\n",
       " [7.5, 7.0],\n",
       " [7.5, 7.25],\n",
       " [7.5, 7.5],\n",
       " [7.5, 7.75],\n",
       " [7.75, 6.0],\n",
       " [7.75, 6.25],\n",
       " [7.75, 6.5],\n",
       " [7.75, 6.75],\n",
       " [7.75, 7.0],\n",
       " [7.75, 7.25],\n",
       " [7.75, 7.5],\n",
       " [7.75, 7.75],\n",
       " [8.0, 6.0],\n",
       " [8.0, 6.25],\n",
       " [8.0, 6.5],\n",
       " [8.0, 6.75],\n",
       " [8.0, 7.0],\n",
       " [8.0, 7.25],\n",
       " [8.0, 7.5],\n",
       " [8.0, 7.75],\n",
       " [8.25, 6.0],\n",
       " [8.25, 6.25],\n",
       " [8.25, 6.5],\n",
       " [8.25, 6.75],\n",
       " [8.25, 7.0],\n",
       " [8.25, 7.25],\n",
       " [8.25, 7.5],\n",
       " [8.25, 7.75],\n",
       " [8.5, 6.0],\n",
       " [8.5, 6.25],\n",
       " [8.5, 6.5],\n",
       " [8.5, 6.75],\n",
       " [8.5, 7.0],\n",
       " [8.5, 7.25],\n",
       " [8.5, 7.5],\n",
       " [8.5, 7.75],\n",
       " [8.75, 6.0],\n",
       " [8.75, 6.25],\n",
       " [8.75, 6.5],\n",
       " [8.75, 6.75],\n",
       " [8.75, 7.0],\n",
       " [8.75, 7.25],\n",
       " [8.75, 7.5],\n",
       " [8.75, 7.75],\n",
       " [9.0, 6.0],\n",
       " [9.0, 6.25],\n",
       " [9.0, 6.5],\n",
       " [9.0, 6.75],\n",
       " [9.0, 7.0],\n",
       " [9.0, 7.25],\n",
       " [9.0, 7.5],\n",
       " [9.0, 7.75],\n",
       " [9.25, 6.0],\n",
       " [9.25, 6.25],\n",
       " [9.25, 6.5],\n",
       " [9.25, 6.75],\n",
       " [9.25, 7.0],\n",
       " [9.25, 7.25],\n",
       " [9.25, 7.5],\n",
       " [9.25, 7.75],\n",
       " [9.5, 6.0],\n",
       " [9.5, 6.25],\n",
       " [9.5, 6.5],\n",
       " [9.5, 6.75],\n",
       " [9.5, 7.0],\n",
       " [9.5, 7.25],\n",
       " [9.5, 7.5],\n",
       " [9.5, 7.75],\n",
       " [9.75, 6.0],\n",
       " [9.75, 6.25],\n",
       " [9.75, 6.5],\n",
       " [9.75, 6.75],\n",
       " [9.75, 7.0],\n",
       " [9.75, 7.25],\n",
       " [9.75, 7.5],\n",
       " [9.75, 7.75],\n",
       " [10.0, 6.0],\n",
       " [10.0, 6.25],\n",
       " [10.0, 6.5],\n",
       " [10.0, 6.75],\n",
       " [10.0, 7.0],\n",
       " [10.0, 7.25],\n",
       " [10.0, 7.5],\n",
       " [10.0, 7.75],\n",
       " [10.25, 6.0],\n",
       " [10.25, 6.25],\n",
       " [10.25, 6.5],\n",
       " [10.25, 6.75],\n",
       " [10.25, 7.0],\n",
       " [10.25, 7.25],\n",
       " [10.25, 7.5],\n",
       " [10.25, 7.75],\n",
       " [10.5, 6.0],\n",
       " [10.5, 6.25],\n",
       " [10.5, 6.5],\n",
       " [10.5, 6.75],\n",
       " [10.5, 7.0],\n",
       " [10.5, 7.25],\n",
       " [10.5, 7.5],\n",
       " [10.5, 7.75],\n",
       " [10.75, 6.0],\n",
       " [10.75, 6.25],\n",
       " [10.75, 6.5],\n",
       " [10.75, 6.75],\n",
       " [10.75, 7.0],\n",
       " [10.75, 7.25],\n",
       " [10.75, 7.5],\n",
       " [10.75, 7.75],\n",
       " [11.0, 6.0],\n",
       " [11.0, 6.25],\n",
       " [11.0, 6.5],\n",
       " [11.0, 6.75],\n",
       " [11.0, 7.0],\n",
       " [11.0, 7.25],\n",
       " [11.0, 7.5],\n",
       " [11.0, 7.75],\n",
       " [11.25, 6.0],\n",
       " [11.25, 6.25],\n",
       " [11.25, 6.5],\n",
       " [11.25, 6.75],\n",
       " [11.25, 7.0],\n",
       " [11.25, 7.25],\n",
       " [11.25, 7.5],\n",
       " [11.25, 7.75],\n",
       " [11.5, 6.0],\n",
       " [11.5, 6.25],\n",
       " [11.5, 6.5],\n",
       " [11.5, 6.75],\n",
       " [11.5, 7.0],\n",
       " [11.5, 7.25],\n",
       " [11.5, 7.5],\n",
       " [11.5, 7.75],\n",
       " [11.75, 6.0],\n",
       " [11.75, 6.25],\n",
       " [11.75, 6.5],\n",
       " [11.75, 6.75],\n",
       " [11.75, 7.0],\n",
       " [11.75, 7.25],\n",
       " [11.75, 7.5],\n",
       " [11.75, 7.75]]"
      ]
     },
     "execution_count": 154,
     "metadata": {},
     "output_type": "execute_result"
    }
   ],
   "source": [
    "temp_list"
   ]
  },
  {
   "cell_type": "code",
   "execution_count": 155,
   "metadata": {},
   "outputs": [
    {
     "data": {
      "text/plain": [
       "224"
      ]
     },
     "execution_count": 155,
     "metadata": {},
     "output_type": "execute_result"
    }
   ],
   "source": [
    "len(temp_list)"
   ]
  },
  {
   "cell_type": "code",
   "execution_count": 156,
   "metadata": {},
   "outputs": [],
   "source": [
    "df_test=pd.DataFrame(data=temp_list,columns=[\"Feature1\",\"Feature2\"])"
   ]
  },
  {
   "cell_type": "code",
   "execution_count": 157,
   "metadata": {},
   "outputs": [
    {
     "data": {
      "text/html": [
       "<div>\n",
       "<style scoped>\n",
       "    .dataframe tbody tr th:only-of-type {\n",
       "        vertical-align: middle;\n",
       "    }\n",
       "\n",
       "    .dataframe tbody tr th {\n",
       "        vertical-align: top;\n",
       "    }\n",
       "\n",
       "    .dataframe thead th {\n",
       "        text-align: right;\n",
       "    }\n",
       "</style>\n",
       "<table border=\"1\" class=\"dataframe\">\n",
       "  <thead>\n",
       "    <tr style=\"text-align: right;\">\n",
       "      <th></th>\n",
       "      <th>Feature1</th>\n",
       "      <th>Feature2</th>\n",
       "    </tr>\n",
       "  </thead>\n",
       "  <tbody>\n",
       "    <tr>\n",
       "      <th>0</th>\n",
       "      <td>5.0</td>\n",
       "      <td>6.00</td>\n",
       "    </tr>\n",
       "    <tr>\n",
       "      <th>1</th>\n",
       "      <td>5.0</td>\n",
       "      <td>6.25</td>\n",
       "    </tr>\n",
       "    <tr>\n",
       "      <th>2</th>\n",
       "      <td>5.0</td>\n",
       "      <td>6.50</td>\n",
       "    </tr>\n",
       "    <tr>\n",
       "      <th>3</th>\n",
       "      <td>5.0</td>\n",
       "      <td>6.75</td>\n",
       "    </tr>\n",
       "    <tr>\n",
       "      <th>4</th>\n",
       "      <td>5.0</td>\n",
       "      <td>7.00</td>\n",
       "    </tr>\n",
       "  </tbody>\n",
       "</table>\n",
       "</div>"
      ],
      "text/plain": [
       "   Feature1  Feature2\n",
       "0       5.0      6.00\n",
       "1       5.0      6.25\n",
       "2       5.0      6.50\n",
       "3       5.0      6.75\n",
       "4       5.0      7.00"
      ]
     },
     "execution_count": 157,
     "metadata": {},
     "output_type": "execute_result"
    }
   ],
   "source": [
    "df_test.head()"
   ]
  },
  {
   "cell_type": "code",
   "execution_count": 158,
   "metadata": {},
   "outputs": [
    {
     "data": {
      "text/plain": [
       "array([[ 5.  ,  6.  ],\n",
       "       [ 5.  ,  6.25],\n",
       "       [ 5.  ,  6.5 ],\n",
       "       [ 5.  ,  6.75],\n",
       "       [ 5.  ,  7.  ],\n",
       "       [ 5.  ,  7.25],\n",
       "       [ 5.  ,  7.5 ],\n",
       "       [ 5.  ,  7.75],\n",
       "       [ 5.25,  6.  ],\n",
       "       [ 5.25,  6.25],\n",
       "       [ 5.25,  6.5 ],\n",
       "       [ 5.25,  6.75],\n",
       "       [ 5.25,  7.  ],\n",
       "       [ 5.25,  7.25],\n",
       "       [ 5.25,  7.5 ],\n",
       "       [ 5.25,  7.75],\n",
       "       [ 5.5 ,  6.  ],\n",
       "       [ 5.5 ,  6.25],\n",
       "       [ 5.5 ,  6.5 ],\n",
       "       [ 5.5 ,  6.75],\n",
       "       [ 5.5 ,  7.  ],\n",
       "       [ 5.5 ,  7.25],\n",
       "       [ 5.5 ,  7.5 ],\n",
       "       [ 5.5 ,  7.75],\n",
       "       [ 5.75,  6.  ],\n",
       "       [ 5.75,  6.25],\n",
       "       [ 5.75,  6.5 ],\n",
       "       [ 5.75,  6.75],\n",
       "       [ 5.75,  7.  ],\n",
       "       [ 5.75,  7.25],\n",
       "       [ 5.75,  7.5 ],\n",
       "       [ 5.75,  7.75],\n",
       "       [ 6.  ,  6.  ],\n",
       "       [ 6.  ,  6.25],\n",
       "       [ 6.  ,  6.5 ],\n",
       "       [ 6.  ,  6.75],\n",
       "       [ 6.  ,  7.  ],\n",
       "       [ 6.  ,  7.25],\n",
       "       [ 6.  ,  7.5 ],\n",
       "       [ 6.  ,  7.75],\n",
       "       [ 6.25,  6.  ],\n",
       "       [ 6.25,  6.25],\n",
       "       [ 6.25,  6.5 ],\n",
       "       [ 6.25,  6.75],\n",
       "       [ 6.25,  7.  ],\n",
       "       [ 6.25,  7.25],\n",
       "       [ 6.25,  7.5 ],\n",
       "       [ 6.25,  7.75],\n",
       "       [ 6.5 ,  6.  ],\n",
       "       [ 6.5 ,  6.25],\n",
       "       [ 6.5 ,  6.5 ],\n",
       "       [ 6.5 ,  6.75],\n",
       "       [ 6.5 ,  7.  ],\n",
       "       [ 6.5 ,  7.25],\n",
       "       [ 6.5 ,  7.5 ],\n",
       "       [ 6.5 ,  7.75],\n",
       "       [ 6.75,  6.  ],\n",
       "       [ 6.75,  6.25],\n",
       "       [ 6.75,  6.5 ],\n",
       "       [ 6.75,  6.75],\n",
       "       [ 6.75,  7.  ],\n",
       "       [ 6.75,  7.25],\n",
       "       [ 6.75,  7.5 ],\n",
       "       [ 6.75,  7.75],\n",
       "       [ 7.  ,  6.  ],\n",
       "       [ 7.  ,  6.25],\n",
       "       [ 7.  ,  6.5 ],\n",
       "       [ 7.  ,  6.75],\n",
       "       [ 7.  ,  7.  ],\n",
       "       [ 7.  ,  7.25],\n",
       "       [ 7.  ,  7.5 ],\n",
       "       [ 7.  ,  7.75],\n",
       "       [ 7.25,  6.  ],\n",
       "       [ 7.25,  6.25],\n",
       "       [ 7.25,  6.5 ],\n",
       "       [ 7.25,  6.75],\n",
       "       [ 7.25,  7.  ],\n",
       "       [ 7.25,  7.25],\n",
       "       [ 7.25,  7.5 ],\n",
       "       [ 7.25,  7.75],\n",
       "       [ 7.5 ,  6.  ],\n",
       "       [ 7.5 ,  6.25],\n",
       "       [ 7.5 ,  6.5 ],\n",
       "       [ 7.5 ,  6.75],\n",
       "       [ 7.5 ,  7.  ],\n",
       "       [ 7.5 ,  7.25],\n",
       "       [ 7.5 ,  7.5 ],\n",
       "       [ 7.5 ,  7.75],\n",
       "       [ 7.75,  6.  ],\n",
       "       [ 7.75,  6.25],\n",
       "       [ 7.75,  6.5 ],\n",
       "       [ 7.75,  6.75],\n",
       "       [ 7.75,  7.  ],\n",
       "       [ 7.75,  7.25],\n",
       "       [ 7.75,  7.5 ],\n",
       "       [ 7.75,  7.75],\n",
       "       [ 8.  ,  6.  ],\n",
       "       [ 8.  ,  6.25],\n",
       "       [ 8.  ,  6.5 ],\n",
       "       [ 8.  ,  6.75],\n",
       "       [ 8.  ,  7.  ],\n",
       "       [ 8.  ,  7.25],\n",
       "       [ 8.  ,  7.5 ],\n",
       "       [ 8.  ,  7.75],\n",
       "       [ 8.25,  6.  ],\n",
       "       [ 8.25,  6.25],\n",
       "       [ 8.25,  6.5 ],\n",
       "       [ 8.25,  6.75],\n",
       "       [ 8.25,  7.  ],\n",
       "       [ 8.25,  7.25],\n",
       "       [ 8.25,  7.5 ],\n",
       "       [ 8.25,  7.75],\n",
       "       [ 8.5 ,  6.  ],\n",
       "       [ 8.5 ,  6.25],\n",
       "       [ 8.5 ,  6.5 ],\n",
       "       [ 8.5 ,  6.75],\n",
       "       [ 8.5 ,  7.  ],\n",
       "       [ 8.5 ,  7.25],\n",
       "       [ 8.5 ,  7.5 ],\n",
       "       [ 8.5 ,  7.75],\n",
       "       [ 8.75,  6.  ],\n",
       "       [ 8.75,  6.25],\n",
       "       [ 8.75,  6.5 ],\n",
       "       [ 8.75,  6.75],\n",
       "       [ 8.75,  7.  ],\n",
       "       [ 8.75,  7.25],\n",
       "       [ 8.75,  7.5 ],\n",
       "       [ 8.75,  7.75],\n",
       "       [ 9.  ,  6.  ],\n",
       "       [ 9.  ,  6.25],\n",
       "       [ 9.  ,  6.5 ],\n",
       "       [ 9.  ,  6.75],\n",
       "       [ 9.  ,  7.  ],\n",
       "       [ 9.  ,  7.25],\n",
       "       [ 9.  ,  7.5 ],\n",
       "       [ 9.  ,  7.75],\n",
       "       [ 9.25,  6.  ],\n",
       "       [ 9.25,  6.25],\n",
       "       [ 9.25,  6.5 ],\n",
       "       [ 9.25,  6.75],\n",
       "       [ 9.25,  7.  ],\n",
       "       [ 9.25,  7.25],\n",
       "       [ 9.25,  7.5 ],\n",
       "       [ 9.25,  7.75],\n",
       "       [ 9.5 ,  6.  ],\n",
       "       [ 9.5 ,  6.25],\n",
       "       [ 9.5 ,  6.5 ],\n",
       "       [ 9.5 ,  6.75],\n",
       "       [ 9.5 ,  7.  ],\n",
       "       [ 9.5 ,  7.25],\n",
       "       [ 9.5 ,  7.5 ],\n",
       "       [ 9.5 ,  7.75],\n",
       "       [ 9.75,  6.  ],\n",
       "       [ 9.75,  6.25],\n",
       "       [ 9.75,  6.5 ],\n",
       "       [ 9.75,  6.75],\n",
       "       [ 9.75,  7.  ],\n",
       "       [ 9.75,  7.25],\n",
       "       [ 9.75,  7.5 ],\n",
       "       [ 9.75,  7.75],\n",
       "       [10.  ,  6.  ],\n",
       "       [10.  ,  6.25],\n",
       "       [10.  ,  6.5 ],\n",
       "       [10.  ,  6.75],\n",
       "       [10.  ,  7.  ],\n",
       "       [10.  ,  7.25],\n",
       "       [10.  ,  7.5 ],\n",
       "       [10.  ,  7.75],\n",
       "       [10.25,  6.  ],\n",
       "       [10.25,  6.25],\n",
       "       [10.25,  6.5 ],\n",
       "       [10.25,  6.75],\n",
       "       [10.25,  7.  ],\n",
       "       [10.25,  7.25],\n",
       "       [10.25,  7.5 ],\n",
       "       [10.25,  7.75],\n",
       "       [10.5 ,  6.  ],\n",
       "       [10.5 ,  6.25],\n",
       "       [10.5 ,  6.5 ],\n",
       "       [10.5 ,  6.75],\n",
       "       [10.5 ,  7.  ],\n",
       "       [10.5 ,  7.25],\n",
       "       [10.5 ,  7.5 ],\n",
       "       [10.5 ,  7.75],\n",
       "       [10.75,  6.  ],\n",
       "       [10.75,  6.25],\n",
       "       [10.75,  6.5 ],\n",
       "       [10.75,  6.75],\n",
       "       [10.75,  7.  ],\n",
       "       [10.75,  7.25],\n",
       "       [10.75,  7.5 ],\n",
       "       [10.75,  7.75],\n",
       "       [11.  ,  6.  ],\n",
       "       [11.  ,  6.25],\n",
       "       [11.  ,  6.5 ],\n",
       "       [11.  ,  6.75],\n",
       "       [11.  ,  7.  ],\n",
       "       [11.  ,  7.25],\n",
       "       [11.  ,  7.5 ],\n",
       "       [11.  ,  7.75],\n",
       "       [11.25,  6.  ],\n",
       "       [11.25,  6.25],\n",
       "       [11.25,  6.5 ],\n",
       "       [11.25,  6.75],\n",
       "       [11.25,  7.  ],\n",
       "       [11.25,  7.25],\n",
       "       [11.25,  7.5 ],\n",
       "       [11.25,  7.75],\n",
       "       [11.5 ,  6.  ],\n",
       "       [11.5 ,  6.25],\n",
       "       [11.5 ,  6.5 ],\n",
       "       [11.5 ,  6.75],\n",
       "       [11.5 ,  7.  ],\n",
       "       [11.5 ,  7.25],\n",
       "       [11.5 ,  7.5 ],\n",
       "       [11.5 ,  7.75],\n",
       "       [11.75,  6.  ],\n",
       "       [11.75,  6.25],\n",
       "       [11.75,  6.5 ],\n",
       "       [11.75,  6.75],\n",
       "       [11.75,  7.  ],\n",
       "       [11.75,  7.25],\n",
       "       [11.75,  7.5 ],\n",
       "       [11.75,  7.75]])"
      ]
     },
     "execution_count": 158,
     "metadata": {},
     "output_type": "execute_result"
    }
   ],
   "source": [
    "df_test.values"
   ]
  },
  {
   "cell_type": "code",
   "execution_count": 159,
   "metadata": {},
   "outputs": [],
   "source": [
    "df_test=df_test.assign(Ratio=model.predict(np.array(df_test[[\"Feature1\",\"Feature2\"]]))/model1.predict(np.array(df_test[[\"Feature1\",\"Feature2\"]])))"
   ]
  },
  {
   "cell_type": "code",
   "execution_count": 160,
   "metadata": {},
   "outputs": [
    {
     "data": {
      "text/html": [
       "<div>\n",
       "<style scoped>\n",
       "    .dataframe tbody tr th:only-of-type {\n",
       "        vertical-align: middle;\n",
       "    }\n",
       "\n",
       "    .dataframe tbody tr th {\n",
       "        vertical-align: top;\n",
       "    }\n",
       "\n",
       "    .dataframe thead th {\n",
       "        text-align: right;\n",
       "    }\n",
       "</style>\n",
       "<table border=\"1\" class=\"dataframe\">\n",
       "  <thead>\n",
       "    <tr style=\"text-align: right;\">\n",
       "      <th></th>\n",
       "      <th>Feature1</th>\n",
       "      <th>Feature2</th>\n",
       "      <th>Ratio</th>\n",
       "    </tr>\n",
       "  </thead>\n",
       "  <tbody>\n",
       "    <tr>\n",
       "      <th>203</th>\n",
       "      <td>11.25</td>\n",
       "      <td>6.75</td>\n",
       "      <td>2.169576</td>\n",
       "    </tr>\n",
       "    <tr>\n",
       "      <th>204</th>\n",
       "      <td>11.25</td>\n",
       "      <td>7.00</td>\n",
       "      <td>2.169576</td>\n",
       "    </tr>\n",
       "    <tr>\n",
       "      <th>211</th>\n",
       "      <td>11.50</td>\n",
       "      <td>6.75</td>\n",
       "      <td>2.169576</td>\n",
       "    </tr>\n",
       "    <tr>\n",
       "      <th>212</th>\n",
       "      <td>11.50</td>\n",
       "      <td>7.00</td>\n",
       "      <td>2.169576</td>\n",
       "    </tr>\n",
       "    <tr>\n",
       "      <th>202</th>\n",
       "      <td>11.25</td>\n",
       "      <td>6.50</td>\n",
       "      <td>2.143949</td>\n",
       "    </tr>\n",
       "  </tbody>\n",
       "</table>\n",
       "</div>"
      ],
      "text/plain": [
       "     Feature1  Feature2     Ratio\n",
       "203     11.25      6.75  2.169576\n",
       "204     11.25      7.00  2.169576\n",
       "211     11.50      6.75  2.169576\n",
       "212     11.50      7.00  2.169576\n",
       "202     11.25      6.50  2.143949"
      ]
     },
     "execution_count": 160,
     "metadata": {},
     "output_type": "execute_result"
    }
   ],
   "source": [
    "df_test.sort_values(\"Ratio\",ascending=False).head()"
   ]
  },
  {
   "cell_type": "code",
   "execution_count": 167,
   "metadata": {},
   "outputs": [
    {
     "data": {
      "text/plain": [
       "7.500803858726402"
      ]
     },
     "execution_count": 167,
     "metadata": {},
     "output_type": "execute_result"
    }
   ],
   "source": [
    "result.x[0]"
   ]
  },
  {
   "cell_type": "code",
   "execution_count": 170,
   "metadata": {},
   "outputs": [
    {
     "data": {
      "text/html": [
       "<div>\n",
       "<style scoped>\n",
       "    .dataframe tbody tr th:only-of-type {\n",
       "        vertical-align: middle;\n",
       "    }\n",
       "\n",
       "    .dataframe tbody tr th {\n",
       "        vertical-align: top;\n",
       "    }\n",
       "\n",
       "    .dataframe thead th {\n",
       "        text-align: right;\n",
       "    }\n",
       "</style>\n",
       "<table border=\"1\" class=\"dataframe\">\n",
       "  <thead>\n",
       "    <tr style=\"text-align: right;\">\n",
       "      <th></th>\n",
       "      <th>Feature1</th>\n",
       "      <th>Feature2</th>\n",
       "      <th>Ratio</th>\n",
       "    </tr>\n",
       "  </thead>\n",
       "  <tbody>\n",
       "    <tr>\n",
       "      <th>89</th>\n",
       "      <td>7.75</td>\n",
       "      <td>6.25</td>\n",
       "      <td>1.113112</td>\n",
       "    </tr>\n",
       "    <tr>\n",
       "      <th>81</th>\n",
       "      <td>7.50</td>\n",
       "      <td>6.25</td>\n",
       "      <td>1.108321</td>\n",
       "    </tr>\n",
       "    <tr>\n",
       "      <th>88</th>\n",
       "      <td>7.75</td>\n",
       "      <td>6.00</td>\n",
       "      <td>1.071978</td>\n",
       "    </tr>\n",
       "    <tr>\n",
       "      <th>80</th>\n",
       "      <td>7.50</td>\n",
       "      <td>6.00</td>\n",
       "      <td>1.067502</td>\n",
       "    </tr>\n",
       "  </tbody>\n",
       "</table>\n",
       "</div>"
      ],
      "text/plain": [
       "    Feature1  Feature2     Ratio\n",
       "89      7.75      6.25  1.113112\n",
       "81      7.50      6.25  1.108321\n",
       "88      7.75      6.00  1.071978\n",
       "80      7.50      6.00  1.067502"
      ]
     },
     "execution_count": 170,
     "metadata": {},
     "output_type": "execute_result"
    }
   ],
   "source": [
    "df_test[(df_test[\"Feature1\"]>result.x[0]-sample_point_feature1) & \\\n",
    "        (df_test[\"Feature1\"]<result.x[0]+sample_point_feature1) & \\\n",
    "        (df_test[\"Feature2\"]>result.x[1]-sample_point_feature2) & \\\n",
    "        (df_test[\"Feature2\"]<result.x[1]+sample_point_feature2)\n",
    "       ].sort_values(\"Ratio\",ascending=False)"
   ]
  },
  {
   "cell_type": "code",
   "execution_count": 169,
   "metadata": {},
   "outputs": [
    {
     "data": {
      "text/plain": [
       "(array([7.50080386, 6.00141574]), array([-1.11311239]))"
      ]
     },
     "execution_count": 169,
     "metadata": {},
     "output_type": "execute_result"
    }
   ],
   "source": [
    "result.x,result.fun"
   ]
  },
  {
   "cell_type": "markdown",
   "metadata": {},
   "source": [
    "# HYDROCRACKER OPTIMIZATION"
   ]
  },
  {
   "cell_type": "code",
   "execution_count": 188,
   "metadata": {},
   "outputs": [],
   "source": [
    "#********************************PKL FILES*************************************\n",
    "mdl_StageI_LN = pd.read_pickle(\"./StageI_LN.pkl\")\n",
    "mdl_StageI_HN = pd.read_pickle(\"./StageI_HN.pkl\")\n",
    "mdl_StageI_KERO = pd.read_pickle(\"./StageI_KERO.pkl\")\n",
    "mdl_StageI_DIESEL = pd.read_pickle(\"./StageI_DIESEL.pkl\")\n",
    "mdl_StageII_LN = pd.read_pickle(\"./StageII_LN.pkl\")\n",
    "mdl_StageII_HN = pd.read_pickle(\"./StageII_HN.pkl\")\n",
    "mdl_StageII_KERO = pd.read_pickle(\"./StageII_KERO.pkl\")\n",
    "mdl_StageII_DIESEL = pd.read_pickle(\"./StageII_DIESEL.pkl\")\n"
   ]
  },
  {
   "cell_type": "code",
   "execution_count": 189,
   "metadata": {},
   "outputs": [],
   "source": [
    "DIESELI = pd.read_excel(\"./Stage-I_Order.xlsx\",sheet_name = \"DIESEL\")\n",
    "DIESELI_FEATURES=DIESELI[\"SI_DIESEL\"].to_list()\n",
    "\n",
    "DIESELII = pd.read_excel(\"./Stage-II_Order.xlsx\",sheet_name = \"DIESEL\")\n",
    "DIESELII_FEATURES=DIESELII[\"SII_DIESEL\"].to_list()"
   ]
  },
  {
   "cell_type": "code",
   "execution_count": 190,
   "metadata": {},
   "outputs": [],
   "source": [
    "LNI = pd.read_excel(\"./Stage-I_Order.xlsx\",sheet_name = \"LN\")\n",
    "LNI_FEATURES=LNI[\"SI_LN\"].to_list()"
   ]
  },
  {
   "cell_type": "code",
   "execution_count": 225,
   "metadata": {},
   "outputs": [
    {
     "data": {
      "text/plain": [
       "35"
      ]
     },
     "execution_count": 225,
     "metadata": {},
     "output_type": "execute_result"
    }
   ],
   "source": [
    "len(DIESELI_FEATURES)"
   ]
  },
  {
   "cell_type": "code",
   "execution_count": 226,
   "metadata": {},
   "outputs": [],
   "source": [
    "# DIESELI_FEATURES constrains\n",
    "df_ucl_lcl_d1=pd.read_excel(r\"C:\\Users\\RahulG\\Downloads\\LL_UL.xlsx\",sheet_name=\"DIESELI\").set_index(\"DIESELI\").to_dict()\n",
    "DIESELI_CONSTRAINTS=[(df_ucl_lcl_d1[\"LL\"][x],df_ucl_lcl_d1[\"UL\"][x]) for x in DIESELI_FEATURES]"
   ]
  },
  {
   "cell_type": "code",
   "execution_count": 227,
   "metadata": {},
   "outputs": [
    {
     "data": {
      "text/plain": [
       "([(4.630089639504766, 6.214104143349605),\n",
       "  (45.20059502227286, 59.95955023603791),\n",
       "  (0.0008906249800929802, 0.07999999821186066),\n",
       "  (0.0, 0.112874997477047),\n",
       "  (3.081562449783087, 3.589999914169312),\n",
       "  (934.0, 940.4000244140625),\n",
       "  (268.2899902343751, 291.4299896240234),\n",
       "  (334.160009765625, 353.2600097656249),\n",
       "  (359.5, 375.8500106811522),\n",
       "  (3.140000104904175, 3.779999971389771),\n",
       "  (408.3, 1107.6),\n",
       "  (0.2901484294561669, 1.129999982208014),\n",
       "  (0.05999999865889553, 0.1000000014901161),\n",
       "  (2253.875, 2681.575),\n",
       "  (0.2101484310231171, 0.3005000103265046),\n",
       "  (61.00000000000009, 104.000537109375),\n",
       "  (298.170423884969, 383.9116592266704),\n",
       "  (2.419806635057847, 4.970239427057197),\n",
       "  (8.933823297732516, 12.29716086853779),\n",
       "  (5.566371265513738, 13.6828152166717),\n",
       "  (5.432969040268341, 11.56198206082573),\n",
       "  (5.231197756116598, 7.648287564487043),\n",
       "  (348.6406429481298, 355.4215352508965),\n",
       "  (370.8172109959908, 380.9191503034329),\n",
       "  (371.9049938220198, 385.1036043718777),\n",
       "  (378.4089686642804, 392.3555428362777),\n",
       "  (381.5186321305279, 394.7016394896208),\n",
       "  (383.1231104494621, 394.580675085114),\n",
       "  (371.3573523595296, 386.6770495625843),\n",
       "  (390.0549624003853, 406.5852675015813),\n",
       "  (391.6100401627058, 410.0880869917063),\n",
       "  (393.6124332855534, 411.3853155555637),\n",
       "  (396.6943403463115, 413.3706024500489),\n",
       "  (401.8710020291953, 413.4319238866429),\n",
       "  (254.5147898618415, 257.5674900705013)],\n",
       " 35)"
      ]
     },
     "execution_count": 227,
     "metadata": {},
     "output_type": "execute_result"
    }
   ],
   "source": [
    "DIESELI_CONSTRAINTS,len(DIESELI_CONSTRAINTS)"
   ]
  },
  {
   "cell_type": "code",
   "execution_count": 229,
   "metadata": {},
   "outputs": [
    {
     "data": {
      "text/plain": [
       "(['SII_E-1048_RECY_GAS_FEED',\n",
       "  'SII_OIL_FEED_TO_E-1048/49',\n",
       "  'SII_Gravity',\n",
       "  'SII_Distillate_BP_(30%)_(D-86)',\n",
       "  'SII_Distillate_BP_(50%)_(D-86)',\n",
       "  'SII_Distillate_BP_(70%)_(D-86)',\n",
       "  'SII_Distillate_BP_(80%)_(D-86)',\n",
       "  'SII_Distillate_BP_(90%)_(D-86)',\n",
       "  'SII_Distillate_BP_(95%)_(D-86)',\n",
       "  'SII_Distillate_BP_(FBP)_(D-86)',\n",
       "  'SII_Sulfur',\n",
       "  'SII_Nitrogen',\n",
       "  'SII_C-1002_QNCH_GAS_BEDS_I',\n",
       "  'SII_C-1002_QNCH_GAS_BEDS_II',\n",
       "  'SII_C1002_FEED_FROM_F1002',\n",
       "  'SII_Bed_1_Inlet',\n",
       "  'SII_Bed_2_Inlet',\n",
       "  'SII_Bed_3_Inlet',\n",
       "  'SII_Bed_1_Outlet',\n",
       "  'SII_Bed_2_Outlet',\n",
       "  'SII_Bed_3_Outlet',\n",
       "  'SII_E-1051_MP_STM_TO_HDR',\n",
       "  'SII_E-1051_T/S_OUTLET'],\n",
       " 23)"
      ]
     },
     "execution_count": 229,
     "metadata": {},
     "output_type": "execute_result"
    }
   ],
   "source": [
    "DIESELII_FEATURES,len(DIESELII_FEATURES)"
   ]
  },
  {
   "cell_type": "code",
   "execution_count": 230,
   "metadata": {},
   "outputs": [],
   "source": [
    "# DIESELII_FEATURES constrains\n",
    "df_ucl_lcl_d1=pd.read_excel(r\"C:\\Users\\RahulG\\Downloads\\LL_UL.xlsx\",sheet_name=\"DIESELII\").set_index(\"DIESELII\").to_dict()\n",
    "DIESELII_CONSTRAINTS=[(df_ucl_lcl_d1[\"LL\"][x],df_ucl_lcl_d1[\"UL\"][x]) for x in DIESELII_FEATURES]"
   ]
  },
  {
   "cell_type": "code",
   "execution_count": 231,
   "metadata": {},
   "outputs": [
    {
     "data": {
      "text/plain": [
       "([(31.99584367230782, 41.29916463656569),\n",
       "  (190.14709248435, 253.2622410085752),\n",
       "  (847.5, 856.5),\n",
       "  (402.7000122070312, 427.9399932861328),\n",
       "  (429.2999877929688, 454.2500122070311),\n",
       "  (459.6000061035156, 484.05),\n",
       "  (479.5, 503.3799896240234),\n",
       "  (508.8999938964844, 533.2300109863281),\n",
       "  (531.5899780273438, 554.2300109863281),\n",
       "  (576.4799987792969, 597.1400024414063),\n",
       "  (4.0, 11.24999980926512),\n",
       "  (0.2000000029802322, 2.5),\n",
       "  (1116.413475779643, 3061.767139306549),\n",
       "  (1298.428124605859, 2568.854099575245),\n",
       "  (359.497887874547, 367.8582995198164),\n",
       "  (359.276249278821, 367.653274267207),\n",
       "  (363.3537611383899, 373.6731086000511),\n",
       "  (367.1716599524207, 377.8416189732227),\n",
       "  (367.5991924527128, 376.5170002928178),\n",
       "  (370.1900241071291, 382.3690604446756),\n",
       "  (374.4848818715437, 387.6802708878436),\n",
       "  (4.089685744735435, 8.972605709449882),\n",
       "  (240.9754662966794, 255.9096844988991)],\n",
       " 23)"
      ]
     },
     "execution_count": 231,
     "metadata": {},
     "output_type": "execute_result"
    }
   ],
   "source": [
    "DIESELII_CONSTRAINTS,len(DIESELII_CONSTRAINTS)"
   ]
  },
  {
   "cell_type": "code",
   "execution_count": 232,
   "metadata": {},
   "outputs": [
    {
     "data": {
      "text/plain": [
       "(['SI_MKUP_H2_FROM_K0002/3/4/5',\n",
       "  'SI_RECYCLE_GAS_TO_F-1001',\n",
       "  'SI_H2',\n",
       "  'SI_CH4',\n",
       "  'SI_C2H6',\n",
       "  'SI_C3H8',\n",
       "  'SI_NC4',\n",
       "  'SI_NC5',\n",
       "  'SI_C6+',\n",
       "  'SI_Avg_MW',\n",
       "  'SI_Gravity',\n",
       "  'SI_Distillate_BP_(5%)',\n",
       "  'SI_Sulfur',\n",
       "  'SI_Nitrogen',\n",
       "  'SI_Vanadium_(V)',\n",
       "  'SI_Nickel_(Ni)',\n",
       "  'SI_PCI',\n",
       "  'SI_CCR',\n",
       "  'SI_Asphaltenes',\n",
       "  'SI_G-1001/02_TO_F-1001',\n",
       "  'SI_C-1001_QNCH_GAS_BED2',\n",
       "  'SI_C-1001_QNCH_GAS_BED3',\n",
       "  'SI_C-1001_QNCH_GAS_BED4',\n",
       "  'SI_C-1001_QNCH_GAS_BED5',\n",
       "  'SI_C-1001_QNCH_GAS_BED6',\n",
       "  'SI_Bed_1_Inlet',\n",
       "  'SI_Bed_2_Inlet',\n",
       "  'SI_Bed_3_Inlet',\n",
       "  'SI_Bed_4_Inlet',\n",
       "  'SI_Bed_5_Inlet',\n",
       "  'SI_Bed_6_Inlet',\n",
       "  'SI_Bed_1_Outlet',\n",
       "  'SI_Bed_2_Outlet',\n",
       "  'SI_Bed_3_Outlet',\n",
       "  'SI_Bed_4_Outlet',\n",
       "  'SI_Bed_5_Outlet',\n",
       "  'SI_Bed_6_Outlet',\n",
       "  'SI_E-1044_T/S_OUTLET'],\n",
       " 38)"
      ]
     },
     "execution_count": 232,
     "metadata": {},
     "output_type": "execute_result"
    }
   ],
   "source": [
    "LNI_FEATURES,len(LNI_FEATURES)"
   ]
  },
  {
   "cell_type": "code",
   "execution_count": 209,
   "metadata": {},
   "outputs": [],
   "source": [
    "# LNI_FEATURES constrains\n",
    "df_ucl_lcl_d1=pd.read_excel(r\"C:\\Users\\RahulG\\Downloads\\LL_UL.xlsx\",sheet_name=\"LNI\").set_index(\"LNI\").to_dict()\n",
    "LNI_CONSTRAINTS=[(df_ucl_lcl_d1[\"LL\"][x],df_ucl_lcl_d1[\"UL\"][x]) for x in LNI_FEATURES]"
   ]
  },
  {
   "cell_type": "code",
   "execution_count": 233,
   "metadata": {},
   "outputs": [
    {
     "data": {
      "text/plain": [
       "([(4.630089639504766, 6.214104143349605),\n",
       "  (45.20059502227286, 59.95955023603791),\n",
       "  (95.70999908447266, 96.71199913024903),\n",
       "  (1.159999966621399, 1.649999976158142),\n",
       "  (0.3600000143051147, 0.5399995064734184),\n",
       "  (0.449999988079071, 0.6299999952316284),\n",
       "  (0.1899999976158142, 0.2899999916553497),\n",
       "  (0.0008906249800929802, 0.07999999821186066),\n",
       "  (0.09000000357627869, 0.2000000029802322),\n",
       "  (3.081562449783087, 3.589999914169312),\n",
       "  (934.0, 940.4000244140625),\n",
       "  (334.160009765625, 353.2600097656249),\n",
       "  (3.140000104904175, 3.779999971389771),\n",
       "  (408.3, 1107.6),\n",
       "  (0.2901484294561669, 1.129999982208014),\n",
       "  (0.05999999865889553, 0.1000000014901161),\n",
       "  (2253.875, 2681.575),\n",
       "  (0.2101484310231171, 0.3005000103265046),\n",
       "  (61.00000000000009, 104.000537109375),\n",
       "  (298.170423884969, 383.9116592266704),\n",
       "  (2.419806635057847, 4.970239427057197),\n",
       "  (8.933823297732516, 12.29716086853779),\n",
       "  (5.566371265513738, 13.6828152166717),\n",
       "  (5.432969040268341, 11.56198206082573),\n",
       "  (5.231197756116598, 7.648287564487043),\n",
       "  (348.6406429481298, 355.4215352508965),\n",
       "  (370.8172109959908, 380.9191503034329),\n",
       "  (371.9049938220198, 385.1036043718777),\n",
       "  (378.4089686642804, 392.3555428362777),\n",
       "  (381.5186321305279, 394.7016394896208),\n",
       "  (383.1231104494621, 394.580675085114),\n",
       "  (371.3573523595296, 386.6770495625843),\n",
       "  (390.0549624003853, 406.5852675015813),\n",
       "  (391.6100401627058, 410.0880869917063),\n",
       "  (393.6124332855534, 411.3853155555637),\n",
       "  (396.6943403463115, 413.3706024500489),\n",
       "  (401.8710020291953, 413.4319238866429),\n",
       "  (254.5147898618415, 257.5674900705013)],\n",
       " 38)"
      ]
     },
     "execution_count": 233,
     "metadata": {},
     "output_type": "execute_result"
    }
   ],
   "source": [
    "LNI_CONSTRAINTS,len(LNI_CONSTRAINTS)"
   ]
  },
  {
   "cell_type": "code",
   "execution_count": 257,
   "metadata": {},
   "outputs": [],
   "source": [
    "# LNII_FEATURES constrains\n",
    "\n",
    "LNII = pd.read_excel(\"./Stage-II_Order.xlsx\",sheet_name = \"LN\")\n",
    "LNII_FEATURES=LNII[\"SII_LN\"].to_list()\n",
    "\n",
    "df_ucl_lcl_d1=pd.read_excel(r\"C:\\Users\\RahulG\\Downloads\\LL_UL.xlsx\",sheet_name=\"LNII\").set_index(\"LNII\").to_dict()\n",
    "LNII_CONSTRAINTS=[(df_ucl_lcl_d1[\"LL\"][x],df_ucl_lcl_d1[\"UL\"][x]) for x in LNII_FEATURES]"
   ]
  },
  {
   "cell_type": "code",
   "execution_count": 283,
   "metadata": {},
   "outputs": [
    {
     "data": {
      "text/plain": [
       "True"
      ]
     },
     "execution_count": 283,
     "metadata": {},
     "output_type": "execute_result"
    }
   ],
   "source": [
    "len(LNII_FEATURES)==len(LNII_CONSTRAINTS)"
   ]
  },
  {
   "cell_type": "code",
   "execution_count": 262,
   "metadata": {},
   "outputs": [],
   "source": [
    "# HNI \n",
    "\n",
    "HNI = pd.read_excel(\"./Stage-I_Order.xlsx\",sheet_name = \"HN\")\n",
    "HNI_FEATURES=HNI[\"SI_HN\"].to_list()\n",
    "\n",
    "df_ucl_lcl_d1=pd.read_excel(r\"C:\\Users\\RahulG\\Downloads\\LL_UL.xlsx\",sheet_name=\"HNI\").set_index(\"HNI\").to_dict()\n",
    "HNI_CONSTRAINTS=[(df_ucl_lcl_d1[\"LL\"][x],df_ucl_lcl_d1[\"UL\"][x]) for x in HNI_FEATURES]"
   ]
  },
  {
   "cell_type": "code",
   "execution_count": 284,
   "metadata": {},
   "outputs": [
    {
     "data": {
      "text/plain": [
       "True"
      ]
     },
     "execution_count": 284,
     "metadata": {},
     "output_type": "execute_result"
    }
   ],
   "source": [
    "len(HNI_FEATURES)==len(HNI_CONSTRAINTS)"
   ]
  },
  {
   "cell_type": "code",
   "execution_count": 285,
   "metadata": {},
   "outputs": [],
   "source": [
    "# HNII\n",
    "\n",
    "HNII = pd.read_excel(\"./Stage-II_Order.xlsx\",sheet_name = \"HN\")\n",
    "HNII_FEATURES=HNII[\"SII_HN\"].to_list()\n",
    "\n",
    "df_ucl_lcl_d1=pd.read_excel(r\"C:\\Users\\RahulG\\Downloads\\LL_UL.xlsx\",sheet_name=\"HNII\").set_index(\"HNII\").to_dict()\n",
    "HNII_CONSTRAINTS=[(df_ucl_lcl_d1[\"LL\"][x],df_ucl_lcl_d1[\"UL\"][x]) for x in HNII_FEATURES]"
   ]
  },
  {
   "cell_type": "code",
   "execution_count": 286,
   "metadata": {},
   "outputs": [
    {
     "data": {
      "text/plain": [
       "True"
      ]
     },
     "execution_count": 286,
     "metadata": {},
     "output_type": "execute_result"
    }
   ],
   "source": [
    "len(HNII_FEATURES)==len(HNII_CONSTRAINTS)"
   ]
  },
  {
   "cell_type": "code",
   "execution_count": 273,
   "metadata": {},
   "outputs": [],
   "source": [
    "# KEROI \n",
    "\n",
    "KEROI = pd.read_excel(\"./Stage-I_Order.xlsx\",sheet_name = \"KERO\")\n",
    "KEROI_FEATURES=KEROI[\"SI_KERO\"].to_list()\n",
    "\n",
    "df_ucl_lcl_d1=pd.read_excel(r\"C:\\Users\\RahulG\\Downloads\\LL_UL.xlsx\",sheet_name=\"KEROI\").set_index(\"KEROI\").to_dict()\n",
    "KEROI_CONSTRAINTS=[(df_ucl_lcl_d1[\"LL\"][x],df_ucl_lcl_d1[\"UL\"][x]) for x in KEROI_FEATURES]"
   ]
  },
  {
   "cell_type": "code",
   "execution_count": 287,
   "metadata": {},
   "outputs": [
    {
     "data": {
      "text/plain": [
       "True"
      ]
     },
     "execution_count": 287,
     "metadata": {},
     "output_type": "execute_result"
    }
   ],
   "source": [
    "len(KEROI_FEATURES)==len(KEROI_CONSTRAINTS)"
   ]
  },
  {
   "cell_type": "code",
   "execution_count": 275,
   "metadata": {},
   "outputs": [],
   "source": [
    "# KEROII\n",
    "\n",
    "KEROII = pd.read_excel(\"./Stage-II_Order.xlsx\",sheet_name = \"KERO\")\n",
    "KEROII_FEATURES=KEROII[\"SII_KERO\"].to_list()\n",
    "\n",
    "df_ucl_lcl_d1=pd.read_excel(r\"C:\\Users\\RahulG\\Downloads\\LL_UL.xlsx\",sheet_name=\"KEROII\").set_index(\"KEROII\").to_dict()\n",
    "KEROII_CONSTRAINTS=[(df_ucl_lcl_d1[\"LL\"][x],df_ucl_lcl_d1[\"UL\"][x]) for x in KEROII_FEATURES]"
   ]
  },
  {
   "cell_type": "code",
   "execution_count": 288,
   "metadata": {},
   "outputs": [
    {
     "data": {
      "text/plain": [
       "True"
      ]
     },
     "execution_count": 288,
     "metadata": {},
     "output_type": "execute_result"
    }
   ],
   "source": [
    "len(KEROII_FEATURES)==len(KEROII_CONSTRAINTS)"
   ]
  },
  {
   "cell_type": "code",
   "execution_count": 289,
   "metadata": {},
   "outputs": [],
   "source": [
    "ALL_CONSTRAINTS=DIESELI_CONSTRAINTS+DIESELII_CONSTRAINTS+LNI_CONSTRAINTS+LNII_CONSTRAINTS+HNI_CONSTRAINTS+HNII_CONSTRAINTS\\\n",
    "+KEROI_CONSTRAINTS+KEROII_CONSTRAINTS"
   ]
  },
  {
   "cell_type": "code",
   "execution_count": 290,
   "metadata": {},
   "outputs": [
    {
     "data": {
      "text/plain": [
       "(234, 35, 23, 38, 23, 36, 21, 35, 23)"
      ]
     },
     "execution_count": 290,
     "metadata": {},
     "output_type": "execute_result"
    }
   ],
   "source": [
    "len(ALL_CONSTRAINTS),len(DIESELI_CONSTRAINTS),len(DIESELII_CONSTRAINTS),len(LNI_CONSTRAINTS),len(LNII_CONSTRAINTS),len(HNI_CONSTRAINTS),len(HNII_CONSTRAINTS),len(KEROI_CONSTRAINTS),len(KEROII_CONSTRAINTS)"
   ]
  },
  {
   "cell_type": "code",
   "execution_count": 291,
   "metadata": {},
   "outputs": [
    {
     "name": "stdout",
     "output_type": "stream",
     "text": [
      "This Should be true\n"
     ]
    },
    {
     "data": {
      "text/plain": [
       "True"
      ]
     },
     "execution_count": 291,
     "metadata": {},
     "output_type": "execute_result"
    }
   ],
   "source": [
    "# This should be True\n",
    "print(\"This Should be true\")\n",
    "len(ALL_CONSTRAINTS)==len(DIESELI_CONSTRAINTS)+len(DIESELII_CONSTRAINTS)+len(LNI_CONSTRAINTS)+len(LNII_CONSTRAINTS)+len(HNI_CONSTRAINTS)+len(HNII_CONSTRAINTS)+len(KEROI_CONSTRAINTS)+len(KEROII_CONSTRAINTS)"
   ]
  },
  {
   "cell_type": "code",
   "execution_count": 238,
   "metadata": {},
   "outputs": [],
   "source": [
    "# temp_x_dieselI=ALL_CONSTRAINTS[:len(DIESELI_CONSTRAINTS)]\n",
    "# temp_x_dieselII=ALL_CONSTRAINTS[len(DIESELI_CONSTRAINTS):len(DIESELII_CONSTRAINTS)+1]\n",
    "# temp_x_LNI=ALL_CONSTRAINTS[len(DIESELII_CONSTRAINTS):]\n",
    "    "
   ]
  },
  {
   "cell_type": "code",
   "execution_count": 239,
   "metadata": {},
   "outputs": [
    {
     "data": {
      "text/plain": [
       "35"
      ]
     },
     "execution_count": 239,
     "metadata": {},
     "output_type": "execute_result"
    }
   ],
   "source": [
    "# len(temp_x_dieselI)"
   ]
  },
  {
   "cell_type": "code",
   "execution_count": 292,
   "metadata": {},
   "outputs": [],
   "source": [
    "#Define Objective Problem\n",
    "\n",
    "def obj_func(x):\n",
    "    \"\"\"\n",
    "    Defining optimization objective function using predictive model here\n",
    "    \n",
    "    obj = cp.Maximize(((mdl_StageI_DIESEL.predict(DIESELI)[0])+(mdl_StageII_DIESEL.predict(DIESELII)[0]))/\\\n",
    "    ((mdl_StageI_DIESEL.predict(DIESELI)[0])+(mdl_StageII_DIESEL.predict(DIESELII)[0])+(mdl_StageI_LN.predict(LNI)[0])\\\n",
    "    +(mdl_StageII_LN.predict(LNII)[0])+\\\n",
    "    (mdl_StageI_HN.predict(HNI)[0])+\\\n",
    "    (mdl_StageII_HN.predict(HNII)[0])+\\\n",
    "    (mdl_StageI_KERO.predict(KEROI)[0])+\\\n",
    "    (mdl_StageII_KERO.predict(KEROII)[0])))\n",
    "    # \n",
    "    \"\"\"  \n",
    "    x_dieselI=x[:len(DIESELI_CONSTRAINTS)]\n",
    "    x_dieselII=x[len(DIESELI_CONSTRAINTS):len(DIESELI_CONSTRAINTS)+len(DIESELII_CONSTRAINTS)]\n",
    "    x_LNI=x[len(DIESELI_CONSTRAINTS)+len(DIESELII_CONSTRAINTS):len(DIESELI_CONSTRAINTS)+len(DIESELII_CONSTRAINTS)+len(LNI_CONSTRAINTS)]\n",
    "    x_LNII=x[len(DIESELI_CONSTRAINTS)+len(DIESELII_CONSTRAINTS)+len(LNI_CONSTRAINTS):\\\n",
    "            len(DIESELI_CONSTRAINTS)+len(DIESELII_CONSTRAINTS)+len(LNI_CONSTRAINTS)+len(LNII_CONSTRAINTS)]\n",
    "    x_HNI=x[len(DIESELI_CONSTRAINTS)+len(DIESELII_CONSTRAINTS)+len(LNI_CONSTRAINTS)+len(LNII_CONSTRAINTS)\n",
    "            :len(DIESELI_CONSTRAINTS)+len(DIESELII_CONSTRAINTS)+len(LNI_CONSTRAINTS)+len(LNII_CONSTRAINTS)+len(HNI_CONSTRAINTS)        \n",
    "    ]\n",
    "    x_HNII=x[len(DIESELI_CONSTRAINTS)+len(DIESELII_CONSTRAINTS)+len(LNI_CONSTRAINTS)+len(LNII_CONSTRAINTS)+len(HNI_CONSTRAINTS)\n",
    "            :len(DIESELI_CONSTRAINTS)+len(DIESELII_CONSTRAINTS)+len(LNI_CONSTRAINTS)+len(LNII_CONSTRAINTS)+len(HNI_CONSTRAINTS)+len(HNII_CONSTRAINTS)\n",
    "    ]\n",
    "    x_KEROI=x[len(DIESELI_CONSTRAINTS)+len(DIESELII_CONSTRAINTS)+len(LNI_CONSTRAINTS)+len(LNII_CONSTRAINTS)+len(HNI_CONSTRAINTS)+len(HNII_CONSTRAINTS)\n",
    "              :len(DIESELI_CONSTRAINTS)+len(DIESELII_CONSTRAINTS)+len(LNI_CONSTRAINTS)+len(LNII_CONSTRAINTS)+len(HNI_CONSTRAINTS)+len(HNII_CONSTRAINTS)+len(KEROI_CONSTRAINTS)\n",
    "              ]\n",
    "    x_KEROII=x[len(DIESELI_CONSTRAINTS)+len(DIESELII_CONSTRAINTS)+len(LNI_CONSTRAINTS)+len(LNII_CONSTRAINTS)+len(HNI_CONSTRAINTS)+len(HNII_CONSTRAINTS)+len(KEROI_CONSTRAINTS)\n",
    "              :len(DIESELI_CONSTRAINTS)+len(DIESELII_CONSTRAINTS)+len(LNI_CONSTRAINTS)+len(LNII_CONSTRAINTS)+len(HNI_CONSTRAINTS)+len(HNII_CONSTRAINTS)+len(KEROI_CONSTRAINTS)+len(KEROII_CONSTRAINTS)\n",
    "              \n",
    "              ]\n",
    "    \n",
    "    \n",
    "    NUMERATOR=(mdl_StageI_DIESEL.predict([x_dieselI])[0])+(mdl_StageII_DIESEL.predict([x_dieselII])[0])\n",
    "    \n",
    "    DENOMINATOR=(NUMERATOR+\\\n",
    "                 (mdl_StageI_LN.predict([x_LNI])[0])+(mdl_StageII_LN.predict([x_LNII])[0])+\\\n",
    "                 (mdl_StageI_HN.predict([x_HNI])[0])+(mdl_StageII_HN.predict([x_HNII])[0])+\\\n",
    "                 (mdl_StageI_KERO.predict([x_KEROI])[0])+(mdl_StageII_KERO.predict([x_KEROII])[0])                 \n",
    "                )    \n",
    "    \n",
    "    return (NUMERATOR/DENOMINATOR)"
   ]
  },
  {
   "cell_type": "code",
   "execution_count": 294,
   "metadata": {},
   "outputs": [],
   "source": [
    "de_hc=DE(obj_func,ALL_CONSTRAINTS,maxiters=2)"
   ]
  },
  {
   "cell_type": "code",
   "execution_count": 295,
   "metadata": {},
   "outputs": [
    {
     "data": {
      "application/vnd.jupyter.widget-view+json": {
       "model_id": "82b61c54738041ab8a2966ca57fd919a",
       "version_major": 2,
       "version_minor": 0
      },
      "text/plain": [
       "HBox(children=(IntProgress(value=0, description='Optimizing (DE)', max=2, style=ProgressStyle(description_widt…"
      ]
     },
     "metadata": {},
     "output_type": "display_data"
    },
    {
     "name": "stdout",
     "output_type": "stream",
     "text": [
      "\n"
     ]
    },
    {
     "data": {
      "text/plain": [
       "(array([[5.02172752e+00, 5.39047970e+01, 2.94913384e-02, 7.60929929e-02,\n",
       "         3.15246153e+00, 9.36791731e+02, 2.81213715e+02, 3.38927523e+02,\n",
       "         3.62732824e+02, 3.68559206e+00, 9.26885242e+02, 7.39693913e-01,\n",
       "         6.31921047e-02, 2.62332894e+03, 2.39344179e-01, 6.48824659e+01,\n",
       "         3.27138386e+02, 3.77172295e+00, 9.05485276e+00, 6.69954801e+00,\n",
       "         8.66685684e+00, 7.11376585e+00, 3.51166433e+02, 3.71845683e+02,\n",
       "         3.81137112e+02, 3.91776858e+02, 3.86807791e+02, 3.83241961e+02,\n",
       "         3.82414365e+02, 3.92011183e+02, 4.09045095e+02, 4.00507259e+02,\n",
       "         4.08454567e+02, 4.03593604e+02, 2.55367166e+02, 3.99781851e+01,\n",
       "         2.31401961e+02, 8.56214575e+02, 4.10204984e+02, 4.33198531e+02,\n",
       "         4.66206082e+02, 4.83940727e+02, 5.12769706e+02, 5.53305101e+02,\n",
       "         5.90111627e+02, 1.04735928e+01, 3.55298500e-01, 1.83368825e+03,\n",
       "         1.67532606e+03, 3.60860217e+02, 3.64245602e+02, 3.70829758e+02,\n",
       "         3.71954573e+02, 3.68535369e+02, 3.74257799e+02, 3.87320641e+02,\n",
       "         8.61929190e+00, 2.49299318e+02, 5.64915707e+00, 4.87586512e+01,\n",
       "         9.58665250e+01, 1.57374170e+00, 5.36665624e-01, 4.52387935e-01,\n",
       "         1.93424212e-01, 1.29359500e-02, 1.23746549e-01, 3.38198755e+00,\n",
       "         9.37967862e+02, 3.47479375e+02, 3.71683959e+00, 1.02869376e+03,\n",
       "         4.84329709e-01, 9.17361115e-02, 2.66538944e+03, 2.27373489e-01,\n",
       "         9.72035444e+01, 3.69581977e+02, 2.68421481e+00, 1.01541421e+01,\n",
       "         7.26669231e+00, 6.55796867e+00, 5.76785927e+00, 3.50117334e+02,\n",
       "         3.75344244e+02, 3.84825574e+02, 3.78606295e+02, 3.92487311e+02,\n",
       "         3.91231478e+02, 3.76044805e+02, 3.92661712e+02, 4.03583596e+02,\n",
       "         3.98680544e+02, 4.11947242e+02, 4.12340848e+02, 2.55384517e+02,\n",
       "         4.12580026e+01, 2.26490673e+02, 8.52672506e+02, 2.85707552e+02,\n",
       "         4.53871473e+02, 4.59711643e+02, 4.92670312e+02, 5.13682456e+02,\n",
       "         5.43815303e+02, 8.04315996e+00, 6.92290624e-01, 1.95128782e+03,\n",
       "         2.47753842e+03, 3.67228477e+02, 3.62194550e+02, 3.73348104e+02,\n",
       "         3.69940021e+02, 3.73136187e+02, 3.78644662e+02, 3.86336365e+02,\n",
       "         4.45343031e+00, 2.48494541e+02, 1.47989324e+02, 5.83822114e+00,\n",
       "         5.31588171e+01, 9.57343072e+01, 1.63059596e+00, 4.12247243e-01,\n",
       "         2.68306703e-01, 1.39254436e-01, 5.78153864e-02, 5.90047705e-01,\n",
       "         6.30642345e-02, 3.41771727e+00, 9.36661960e+02, 3.58562786e+00,\n",
       "         1.01468786e+03, 3.14019339e-01, 2.38534692e+03, 2.83363525e-01,\n",
       "         3.80929046e+02, 2.80617653e+00, 1.11753808e+01, 1.05603325e+01,\n",
       "         5.50689539e+00, 5.54167043e+00, 3.54960816e+02, 3.79734200e+02,\n",
       "         3.73761006e+02, 3.80253549e+02, 3.92303995e+02, 3.88055603e+02,\n",
       "         3.79702826e+02, 3.97157099e+02, 4.07554363e+02, 4.01744336e+02,\n",
       "         4.03926996e+02, 4.11370742e+02, 2.55692514e+02, 3.88101489e+01,\n",
       "         2.42858837e+02, 8.56316777e+02, 4.12403677e+02, 5.11377224e+02,\n",
       "         5.35809675e+02, 5.76759511e+02, 9.66932668e+00, 3.47925389e-01,\n",
       "         2.98852873e+03, 2.43488026e+03, 3.65635317e+02, 3.60638050e+02,\n",
       "         3.70953179e+02, 3.74761572e+02, 3.71182975e+02, 3.71244952e+02,\n",
       "         3.84854979e+02, 4.17287528e+00, 2.49166412e+02, 1.54401502e+02,\n",
       "         5.89785904e+00, 5.87956019e+01, 1.64486128e-02, 1.10173573e-01,\n",
       "         5.97104801e-02, 3.47611766e+00, 9.40154447e+02, 3.37086008e+02,\n",
       "         3.66054112e+02, 3.69409074e+00, 7.52647098e+02, 4.74926827e-01,\n",
       "         7.92900989e-02, 2.63206802e+03, 2.13968112e-01, 1.03494383e+02,\n",
       "         3.83314802e+02, 3.40067912e+00, 1.20337138e+01, 9.67442361e+00,\n",
       "         1.02720723e+01, 7.64029299e+00, 3.50133090e+02, 3.75209665e+02,\n",
       "         3.77254283e+02, 3.82425132e+02, 3.82330180e+02, 3.87226707e+02,\n",
       "         3.77437446e+02, 3.98277465e+02, 3.99258508e+02, 3.97205832e+02,\n",
       "         4.01158833e+02, 4.02271568e+02, 2.55717853e+02, 3.31701891e+01,\n",
       "         1.94168530e+02, 8.51447428e+02, 4.08884926e+02, 4.38090480e+02,\n",
       "         4.78744635e+02, 4.95325275e+02, 5.19337832e+02, 5.48854001e+02,\n",
       "         8.00171274e+00, 2.03543486e+00, 1.12084017e+03, 1.50246810e+03,\n",
       "         3.62550333e+02, 3.59842671e+02, 3.71438883e+02, 3.75747484e+02,\n",
       "         3.72488947e+02, 3.74834921e+02, 3.83570675e+02, 5.39381837e+00,\n",
       "         2.43438643e+02, 1.40756395e+02]]), 0.5631520456801479)"
      ]
     },
     "execution_count": 295,
     "metadata": {},
     "output_type": "execute_result"
    }
   ],
   "source": [
    "de_hc.solve(show_progress=True)"
   ]
  },
  {
   "cell_type": "code",
   "execution_count": 316,
   "metadata": {},
   "outputs": [],
   "source": [
    "import yabox"
   ]
  },
  {
   "cell_type": "code",
   "execution_count": 312,
   "metadata": {},
   "outputs": [
    {
     "data": {
      "application/vnd.jupyter.widget-view+json": {
       "model_id": "4bbe52c0b5214c02b5624948f348420b",
       "version_major": 2,
       "version_minor": 0
      },
      "text/plain": [
       "HBox(children=(IntProgress(value=0, description='Optimizing (DE)', max=10, style=ProgressStyle(description_wid…"
      ]
     },
     "metadata": {},
     "output_type": "display_data"
    },
    {
     "name": "stdout",
     "output_type": "stream",
     "text": [
      "\n"
     ]
    }
   ],
   "source": [
    "start=time.time()\n",
    "\n",
    "de_hc1=DE(obj_func,ALL_CONSTRAINTS,maxiters=10)\n",
    "\n",
    "x1,x2=de_hc1.solve(show_progress=True)\n",
    "\n",
    "end=time.time()"
   ]
  },
  {
   "cell_type": "code",
   "execution_count": 303,
   "metadata": {},
   "outputs": [
    {
     "data": {
      "text/plain": [
       "1.0688645298613442"
      ]
     },
     "execution_count": 303,
     "metadata": {},
     "output_type": "execute_result"
    }
   ],
   "source": [
    "(end-start)/3600"
   ]
  },
  {
   "cell_type": "markdown",
   "metadata": {},
   "source": [
    "### SCIPY DE"
   ]
  },
  {
   "cell_type": "code",
   "execution_count": 305,
   "metadata": {},
   "outputs": [],
   "source": [
    "from scipy.optimize import differential_evolution"
   ]
  },
  {
   "cell_type": "code",
   "execution_count": 311,
   "metadata": {},
   "outputs": [
    {
     "name": "stdout",
     "output_type": "stream",
     "text": [
      "differential_evolution step 1: f(x)= 0.551284\n",
      "differential_evolution step 2: f(x)= 0.549005\n",
      "Wall time: 1h 23min 33s\n"
     ]
    }
   ],
   "source": [
    "%%time\n",
    "result = differential_evolution(obj_func, ALL_CONSTRAINTS,disp=True,maxiter=2)"
   ]
  },
  {
   "cell_type": "code",
   "execution_count": null,
   "metadata": {},
   "outputs": [],
   "source": []
  }
 ],
 "metadata": {
  "kernelspec": {
   "display_name": "Python 3",
   "language": "python",
   "name": "python3"
  },
  "language_info": {
   "codemirror_mode": {
    "name": "ipython",
    "version": 3
   },
   "file_extension": ".py",
   "mimetype": "text/x-python",
   "name": "python",
   "nbconvert_exporter": "python",
   "pygments_lexer": "ipython3",
   "version": "3.7.4"
  }
 },
 "nbformat": 4,
 "nbformat_minor": 2
}
