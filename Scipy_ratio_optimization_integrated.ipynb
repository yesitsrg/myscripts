{
 "cells": [
  {
   "cell_type": "code",
   "execution_count": 1,
   "metadata": {},
   "outputs": [],
   "source": [
    "import os\n",
    "cwd = r\"C:\\Users\\RahulG\\Downloads\\Optimization\"\n",
    "os.chdir(cwd)\n",
    "import pandas as pd, numpy as np"
   ]
  },
  {
   "cell_type": "code",
   "execution_count": 2,
   "metadata": {},
   "outputs": [],
   "source": [
    "from scipy.optimize import minimize\n",
    "import numpy as np\n",
    "import pandas as pd\n",
    "\n",
    "data={\"time_studied\" : [12, 10, 4, 7, 6, 11, 6,5],\\\n",
    "\"hours_slept\" : [8, 7, 1, 3, 8, 6, 5,5],\\\n",
    "\"TARGET\" : [10, 9, 2, 5, 7, 8, 8.5, 6],\\\n",
    "\"TARGET1\" : [6, 8.5, 8, 7, 5, 2, 9, 10]}\n",
    "\n",
    "\n",
    "df_temp=pd.DataFrame(data)\n",
    "\n",
    "# X = np.array([time_studied, hours_slept]).T\n",
    "# y = np.array([grade]).T \n",
    "X=df_temp[[\"time_studied\",\"hours_slept\"]]\n",
    "y=df_temp[\"TARGET\"]\n",
    "y1=df_temp[\"TARGET1\"]"
   ]
  },
  {
   "cell_type": "code",
   "execution_count": 3,
   "metadata": {},
   "outputs": [],
   "source": [
    "from sklearn.ensemble import RandomForestRegressor"
   ]
  },
  {
   "cell_type": "code",
   "execution_count": 4,
   "metadata": {},
   "outputs": [
    {
     "data": {
      "text/plain": [
       "RandomForestRegressor()"
      ]
     },
     "execution_count": 4,
     "metadata": {},
     "output_type": "execute_result"
    }
   ],
   "source": [
    "model =RandomForestRegressor()\n",
    "model.fit(X,y)"
   ]
  },
  {
   "cell_type": "code",
   "execution_count": null,
   "metadata": {},
   "outputs": [],
   "source": []
  },
  {
   "cell_type": "code",
   "execution_count": 5,
   "metadata": {},
   "outputs": [
    {
     "data": {
      "text/plain": [
       "RandomForestRegressor()"
      ]
     },
     "execution_count": 5,
     "metadata": {},
     "output_type": "execute_result"
    }
   ],
   "source": [
    "model1 =RandomForestRegressor()\n",
    "model1.fit(X,y1)"
   ]
  },
  {
   "cell_type": "code",
   "execution_count": 6,
   "metadata": {},
   "outputs": [
    {
     "data": {
      "text/plain": [
       "array([9.23 , 8.81 , 3.535, 5.545, 7.605, 8.285, 7.69 , 6.495])"
      ]
     },
     "execution_count": 6,
     "metadata": {},
     "output_type": "execute_result"
    }
   ],
   "source": [
    "model.predict(X)"
   ]
  },
  {
   "cell_type": "code",
   "execution_count": 7,
   "metadata": {},
   "outputs": [
    {
     "data": {
      "text/plain": [
       "array([5.23 , 6.74 , 8.16 , 7.53 , 5.885, 3.985, 8.545, 9.355])"
      ]
     },
     "execution_count": 7,
     "metadata": {},
     "output_type": "execute_result"
    }
   ],
   "source": [
    "model1.predict(X)"
   ]
  },
  {
   "cell_type": "code",
   "execution_count": 8,
   "metadata": {},
   "outputs": [],
   "source": [
    "#Define Constrains here\n",
    "\n",
    "bnds = [(5,12), (6,8)]\n"
   ]
  },
  {
   "cell_type": "code",
   "execution_count": 10,
   "metadata": {},
   "outputs": [
    {
     "data": {
      "text/plain": [
       "Index(['time_studied', 'hours_slept', 'TARGET', 'TARGET1'], dtype='object')"
      ]
     },
     "execution_count": 10,
     "metadata": {},
     "output_type": "execute_result"
    }
   ],
   "source": [
    "df_temp.columns"
   ]
  },
  {
   "cell_type": "code",
   "execution_count": 15,
   "metadata": {},
   "outputs": [
    {
     "data": {
      "text/plain": [
       "[7.625, 5.375]"
      ]
     },
     "execution_count": 15,
     "metadata": {},
     "output_type": "execute_result"
    }
   ],
   "source": []
  },
  {
   "cell_type": "code",
   "execution_count": 16,
   "metadata": {},
   "outputs": [
    {
     "data": {
      "text/plain": [
       "[7.625, 5.375]"
      ]
     },
     "execution_count": 16,
     "metadata": {},
     "output_type": "execute_result"
    }
   ],
   "source": [
    "#starting point\n",
    "\n",
    "x0 = (df_temp[[\"time_studied\",'hours_slept']].mean()).to_list()\n",
    "x0"
   ]
  },
  {
   "cell_type": "code",
   "execution_count": 19,
   "metadata": {},
   "outputs": [],
   "source": [
    "#Objective func\n",
    "#-ve sign to maximize\n",
    "\n",
    "def temp_funct(x):\n",
    "    NUM=model.predict(np.array([x]))\n",
    "    DEN=model1.predict(np.array([x]))\n",
    "    \n",
    "    return -(NUM/DEN)"
   ]
  },
  {
   "cell_type": "code",
   "execution_count": 104,
   "metadata": {},
   "outputs": [],
   "source": [
    "method_list=['Nelder-Mead',\\\n",
    "'Powell',\\\n",
    "'CG',\\\n",
    "'BFGS',\\\n",
    "# 'Newton-CG',\\\n",
    "'L-BFGS-B',\\\n",
    "'TNC',\\\n",
    "'COBYLA',\\\n",
    "'SLSQP',\\\n",
    "'trust-constr']#,\\\n",
    "# 'dogleg',\\\n",
    "# 'trust-ncg',\\\n",
    "# 'trust-exact']#,\\\n",
    "# # 'trust-krylov']"
   ]
  },
  {
   "cell_type": "code",
   "execution_count": 105,
   "metadata": {},
   "outputs": [
    {
     "data": {
      "text/plain": [
       "'trust-exact'"
      ]
     },
     "execution_count": 105,
     "metadata": {},
     "output_type": "execute_result"
    }
   ],
   "source": [
    "meth"
   ]
  },
  {
   "cell_type": "code",
   "execution_count": 106,
   "metadata": {},
   "outputs": [
    {
     "name": "stderr",
     "output_type": "stream",
     "text": [
      "c:\\users\\rahulg\\appdata\\local\\programs\\python\\python37\\lib\\site-packages\\scipy\\optimize\\_minimize.py:522: RuntimeWarning: Method Nelder-Mead cannot handle constraints nor bounds.\n",
      "  RuntimeWarning)\n"
     ]
    },
    {
     "name": "stdout",
     "output_type": "stream",
     "text": [
      "Nelder-Mead\n",
      "[8.00625 5.64375]\n",
      "-1.113555713271824\n",
      "\n",
      "\n"
     ]
    },
    {
     "name": "stderr",
     "output_type": "stream",
     "text": [
      "c:\\users\\rahulg\\appdata\\local\\programs\\python\\python37\\lib\\site-packages\\scipy\\optimize\\_minimize.py:522: RuntimeWarning: Method Powell cannot handle constraints nor bounds.\n",
      "  RuntimeWarning)\n"
     ]
    },
    {
     "name": "stdout",
     "output_type": "stream",
     "text": [
      "Powell\n",
      "[19.54135773  6.71648593]\n",
      "-1.9408033826638476\n",
      "\n",
      "\n",
      "CG\n",
      "[7.625 5.375]\n",
      "[-0.87995269]\n",
      "\n",
      "\n",
      "BFGS\n",
      "[7.625 5.375]\n",
      "[-0.87995269]\n",
      "\n",
      "\n",
      "L-BFGS-B\n",
      "[7.625 6.   ]\n",
      "[-1.07197764]\n",
      "\n",
      "\n",
      "TNC"
     ]
    },
    {
     "name": "stderr",
     "output_type": "stream",
     "text": [
      "c:\\users\\rahulg\\appdata\\local\\programs\\python\\python37\\lib\\site-packages\\scipy\\optimize\\_minimize.py:522: RuntimeWarning: Method CG cannot handle constraints nor bounds.\n",
      "  RuntimeWarning)\n",
      "c:\\users\\rahulg\\appdata\\local\\programs\\python\\python37\\lib\\site-packages\\scipy\\optimize\\_minimize.py:522: RuntimeWarning: Method BFGS cannot handle constraints nor bounds.\n",
      "  RuntimeWarning)\n"
     ]
    },
    {
     "name": "stdout",
     "output_type": "stream",
     "text": [
      "\n",
      "[7.625 6.   ]\n",
      "[-1.07197764]\n",
      "\n",
      "\n",
      "COBYLA\n",
      "[8.79618239 6.55719931]\n",
      "-1.243795620437956\n",
      "\n",
      "\n",
      "SLSQP\n",
      "[7.625 6.   ]\n",
      "-1.0719776380153738\n",
      "\n",
      "\n",
      "trust-constr\n",
      "[7.50080386 6.00141574]\n",
      "[-1.11311239]\n",
      "\n",
      "\n"
     ]
    },
    {
     "name": "stderr",
     "output_type": "stream",
     "text": [
      "c:\\users\\rahulg\\appdata\\local\\programs\\python\\python37\\lib\\site-packages\\scipy\\optimize\\_minimize.py:528: RuntimeWarning: Method COBYLA cannot handle bounds.\n",
      "  RuntimeWarning)\n",
      "c:\\users\\rahulg\\appdata\\local\\programs\\python\\python37\\lib\\site-packages\\scipy\\optimize\\_hessian_update_strategy.py:187: UserWarning: delta_grad == 0.0. Check if the approximated function is linear. If the function is linear better results can be obtained by defining the Hessian as zero instead of using quasi-Newton approximations.\n",
      "  'approximations.', UserWarning)\n",
      "c:\\users\\rahulg\\appdata\\local\\programs\\python\\python37\\lib\\site-packages\\scipy\\optimize\\_hessian_update_strategy.py:187: UserWarning: delta_grad == 0.0. Check if the approximated function is linear. If the function is linear better results can be obtained by defining the Hessian as zero instead of using quasi-Newton approximations.\n",
      "  'approximations.', UserWarning)\n"
     ]
    }
   ],
   "source": [
    "for meth in method_list:\n",
    "    result=minimize(temp_funct, x0, method=meth,bounds=bnds,options={'disp': False})\n",
    "    print(meth)\n",
    "    print(result.x)\n",
    "    print(result.fun)\n",
    "    print(\"\\n\")"
   ]
  },
  {
   "cell_type": "code",
   "execution_count": 109,
   "metadata": {},
   "outputs": [
    {
     "name": "stdout",
     "output_type": "stream",
     "text": [
      "`gtol` termination condition is satisfied.\n",
      "Number of iterations: 12, function evaluations: 9, CG iterations: 3, optimality: 7.52e-09, constraint violation: 0.00e+00, execution time: 0.11 s.\n"
     ]
    },
    {
     "name": "stderr",
     "output_type": "stream",
     "text": [
      "c:\\users\\rahulg\\appdata\\local\\programs\\python\\python37\\lib\\site-packages\\scipy\\optimize\\_hessian_update_strategy.py:187: UserWarning: delta_grad == 0.0. Check if the approximated function is linear. If the function is linear better results can be obtained by defining the Hessian as zero instead of using quasi-Newton approximations.\n",
      "  'approximations.', UserWarning)\n",
      "c:\\users\\rahulg\\appdata\\local\\programs\\python\\python37\\lib\\site-packages\\scipy\\optimize\\_hessian_update_strategy.py:187: UserWarning: delta_grad == 0.0. Check if the approximated function is linear. If the function is linear better results can be obtained by defining the Hessian as zero instead of using quasi-Newton approximations.\n",
      "  'approximations.', UserWarning)\n"
     ]
    }
   ],
   "source": [
    "result=minimize(temp_funct, x0, method='trust-constr',bounds=bnds,options={'disp': True})"
   ]
  },
  {
   "cell_type": "code",
   "execution_count": 110,
   "metadata": {},
   "outputs": [
    {
     "data": {
      "text/plain": [
       "array([7.50080386, 6.00141574])"
      ]
     },
     "execution_count": 110,
     "metadata": {},
     "output_type": "execute_result"
    }
   ],
   "source": [
    "#show the result\n",
    "result.x"
   ]
  },
  {
   "cell_type": "code",
   "execution_count": 111,
   "metadata": {},
   "outputs": [
    {
     "data": {
      "text/plain": [
       "array([-1.11311239])"
      ]
     },
     "execution_count": 111,
     "metadata": {},
     "output_type": "execute_result"
    }
   ],
   "source": [
    "result.fun"
   ]
  },
  {
   "cell_type": "code",
   "execution_count": 112,
   "metadata": {},
   "outputs": [
    {
     "data": {
      "text/plain": [
       "'`gtol` termination condition is satisfied.'"
      ]
     },
     "execution_count": 112,
     "metadata": {},
     "output_type": "execute_result"
    }
   ],
   "source": [
    "result.message"
   ]
  },
  {
   "cell_type": "markdown",
   "metadata": {},
   "source": [
    "### result cross checking"
   ]
  },
  {
   "cell_type": "code",
   "execution_count": 139,
   "metadata": {},
   "outputs": [
    {
     "data": {
      "text/plain": [
       "[(5, 12), (6, 8)]"
      ]
     },
     "execution_count": 139,
     "metadata": {},
     "output_type": "execute_result"
    }
   ],
   "source": [
    "bnds"
   ]
  },
  {
   "cell_type": "code",
   "execution_count": 147,
   "metadata": {},
   "outputs": [],
   "source": [
    "sample_point_feature1=0.25\n",
    "sample_point_feature2=0.25"
   ]
  },
  {
   "cell_type": "code",
   "execution_count": 140,
   "metadata": {},
   "outputs": [],
   "source": [
    "Feature1=np.arange(bnds[0][0],bnds[0][1],sample_point_feature1)"
   ]
  },
  {
   "cell_type": "code",
   "execution_count": 148,
   "metadata": {},
   "outputs": [],
   "source": [
    "Feature2=np.arange(bnds[1][0],bnds[1][1],sample_point_feature2)"
   ]
  },
  {
   "cell_type": "code",
   "execution_count": 149,
   "metadata": {},
   "outputs": [
    {
     "data": {
      "text/plain": [
       "array([ 5.  ,  5.25,  5.5 ,  5.75,  6.  ,  6.25,  6.5 ,  6.75,  7.  ,\n",
       "        7.25,  7.5 ,  7.75,  8.  ,  8.25,  8.5 ,  8.75,  9.  ,  9.25,\n",
       "        9.5 ,  9.75, 10.  , 10.25, 10.5 , 10.75, 11.  , 11.25, 11.5 ,\n",
       "       11.75])"
      ]
     },
     "execution_count": 149,
     "metadata": {},
     "output_type": "execute_result"
    }
   ],
   "source": [
    "Feature1"
   ]
  },
  {
   "cell_type": "code",
   "execution_count": 150,
   "metadata": {},
   "outputs": [
    {
     "data": {
      "text/plain": [
       "array([6.  , 6.25, 6.5 , 6.75, 7.  , 7.25, 7.5 , 7.75])"
      ]
     },
     "execution_count": 150,
     "metadata": {},
     "output_type": "execute_result"
    }
   ],
   "source": [
    "Feature2"
   ]
  },
  {
   "cell_type": "code",
   "execution_count": 151,
   "metadata": {},
   "outputs": [
    {
     "data": {
      "text/plain": [
       "(28, 8, 224)"
      ]
     },
     "execution_count": 151,
     "metadata": {},
     "output_type": "execute_result"
    }
   ],
   "source": [
    "len(Feature1),len(Feature2),len(Feature1)*len(Feature2)"
   ]
  },
  {
   "cell_type": "code",
   "execution_count": 152,
   "metadata": {},
   "outputs": [],
   "source": [
    "temp_list=[]"
   ]
  },
  {
   "cell_type": "code",
   "execution_count": 153,
   "metadata": {},
   "outputs": [],
   "source": [
    "for i in Feature1:\n",
    "    for j in Feature2:\n",
    "        temp_list.append([i,j])"
   ]
  },
  {
   "cell_type": "code",
   "execution_count": 154,
   "metadata": {},
   "outputs": [
    {
     "data": {
      "text/plain": [
       "[[5.0, 6.0],\n",
       " [5.0, 6.25],\n",
       " [5.0, 6.5],\n",
       " [5.0, 6.75],\n",
       " [5.0, 7.0],\n",
       " [5.0, 7.25],\n",
       " [5.0, 7.5],\n",
       " [5.0, 7.75],\n",
       " [5.25, 6.0],\n",
       " [5.25, 6.25],\n",
       " [5.25, 6.5],\n",
       " [5.25, 6.75],\n",
       " [5.25, 7.0],\n",
       " [5.25, 7.25],\n",
       " [5.25, 7.5],\n",
       " [5.25, 7.75],\n",
       " [5.5, 6.0],\n",
       " [5.5, 6.25],\n",
       " [5.5, 6.5],\n",
       " [5.5, 6.75],\n",
       " [5.5, 7.0],\n",
       " [5.5, 7.25],\n",
       " [5.5, 7.5],\n",
       " [5.5, 7.75],\n",
       " [5.75, 6.0],\n",
       " [5.75, 6.25],\n",
       " [5.75, 6.5],\n",
       " [5.75, 6.75],\n",
       " [5.75, 7.0],\n",
       " [5.75, 7.25],\n",
       " [5.75, 7.5],\n",
       " [5.75, 7.75],\n",
       " [6.0, 6.0],\n",
       " [6.0, 6.25],\n",
       " [6.0, 6.5],\n",
       " [6.0, 6.75],\n",
       " [6.0, 7.0],\n",
       " [6.0, 7.25],\n",
       " [6.0, 7.5],\n",
       " [6.0, 7.75],\n",
       " [6.25, 6.0],\n",
       " [6.25, 6.25],\n",
       " [6.25, 6.5],\n",
       " [6.25, 6.75],\n",
       " [6.25, 7.0],\n",
       " [6.25, 7.25],\n",
       " [6.25, 7.5],\n",
       " [6.25, 7.75],\n",
       " [6.5, 6.0],\n",
       " [6.5, 6.25],\n",
       " [6.5, 6.5],\n",
       " [6.5, 6.75],\n",
       " [6.5, 7.0],\n",
       " [6.5, 7.25],\n",
       " [6.5, 7.5],\n",
       " [6.5, 7.75],\n",
       " [6.75, 6.0],\n",
       " [6.75, 6.25],\n",
       " [6.75, 6.5],\n",
       " [6.75, 6.75],\n",
       " [6.75, 7.0],\n",
       " [6.75, 7.25],\n",
       " [6.75, 7.5],\n",
       " [6.75, 7.75],\n",
       " [7.0, 6.0],\n",
       " [7.0, 6.25],\n",
       " [7.0, 6.5],\n",
       " [7.0, 6.75],\n",
       " [7.0, 7.0],\n",
       " [7.0, 7.25],\n",
       " [7.0, 7.5],\n",
       " [7.0, 7.75],\n",
       " [7.25, 6.0],\n",
       " [7.25, 6.25],\n",
       " [7.25, 6.5],\n",
       " [7.25, 6.75],\n",
       " [7.25, 7.0],\n",
       " [7.25, 7.25],\n",
       " [7.25, 7.5],\n",
       " [7.25, 7.75],\n",
       " [7.5, 6.0],\n",
       " [7.5, 6.25],\n",
       " [7.5, 6.5],\n",
       " [7.5, 6.75],\n",
       " [7.5, 7.0],\n",
       " [7.5, 7.25],\n",
       " [7.5, 7.5],\n",
       " [7.5, 7.75],\n",
       " [7.75, 6.0],\n",
       " [7.75, 6.25],\n",
       " [7.75, 6.5],\n",
       " [7.75, 6.75],\n",
       " [7.75, 7.0],\n",
       " [7.75, 7.25],\n",
       " [7.75, 7.5],\n",
       " [7.75, 7.75],\n",
       " [8.0, 6.0],\n",
       " [8.0, 6.25],\n",
       " [8.0, 6.5],\n",
       " [8.0, 6.75],\n",
       " [8.0, 7.0],\n",
       " [8.0, 7.25],\n",
       " [8.0, 7.5],\n",
       " [8.0, 7.75],\n",
       " [8.25, 6.0],\n",
       " [8.25, 6.25],\n",
       " [8.25, 6.5],\n",
       " [8.25, 6.75],\n",
       " [8.25, 7.0],\n",
       " [8.25, 7.25],\n",
       " [8.25, 7.5],\n",
       " [8.25, 7.75],\n",
       " [8.5, 6.0],\n",
       " [8.5, 6.25],\n",
       " [8.5, 6.5],\n",
       " [8.5, 6.75],\n",
       " [8.5, 7.0],\n",
       " [8.5, 7.25],\n",
       " [8.5, 7.5],\n",
       " [8.5, 7.75],\n",
       " [8.75, 6.0],\n",
       " [8.75, 6.25],\n",
       " [8.75, 6.5],\n",
       " [8.75, 6.75],\n",
       " [8.75, 7.0],\n",
       " [8.75, 7.25],\n",
       " [8.75, 7.5],\n",
       " [8.75, 7.75],\n",
       " [9.0, 6.0],\n",
       " [9.0, 6.25],\n",
       " [9.0, 6.5],\n",
       " [9.0, 6.75],\n",
       " [9.0, 7.0],\n",
       " [9.0, 7.25],\n",
       " [9.0, 7.5],\n",
       " [9.0, 7.75],\n",
       " [9.25, 6.0],\n",
       " [9.25, 6.25],\n",
       " [9.25, 6.5],\n",
       " [9.25, 6.75],\n",
       " [9.25, 7.0],\n",
       " [9.25, 7.25],\n",
       " [9.25, 7.5],\n",
       " [9.25, 7.75],\n",
       " [9.5, 6.0],\n",
       " [9.5, 6.25],\n",
       " [9.5, 6.5],\n",
       " [9.5, 6.75],\n",
       " [9.5, 7.0],\n",
       " [9.5, 7.25],\n",
       " [9.5, 7.5],\n",
       " [9.5, 7.75],\n",
       " [9.75, 6.0],\n",
       " [9.75, 6.25],\n",
       " [9.75, 6.5],\n",
       " [9.75, 6.75],\n",
       " [9.75, 7.0],\n",
       " [9.75, 7.25],\n",
       " [9.75, 7.5],\n",
       " [9.75, 7.75],\n",
       " [10.0, 6.0],\n",
       " [10.0, 6.25],\n",
       " [10.0, 6.5],\n",
       " [10.0, 6.75],\n",
       " [10.0, 7.0],\n",
       " [10.0, 7.25],\n",
       " [10.0, 7.5],\n",
       " [10.0, 7.75],\n",
       " [10.25, 6.0],\n",
       " [10.25, 6.25],\n",
       " [10.25, 6.5],\n",
       " [10.25, 6.75],\n",
       " [10.25, 7.0],\n",
       " [10.25, 7.25],\n",
       " [10.25, 7.5],\n",
       " [10.25, 7.75],\n",
       " [10.5, 6.0],\n",
       " [10.5, 6.25],\n",
       " [10.5, 6.5],\n",
       " [10.5, 6.75],\n",
       " [10.5, 7.0],\n",
       " [10.5, 7.25],\n",
       " [10.5, 7.5],\n",
       " [10.5, 7.75],\n",
       " [10.75, 6.0],\n",
       " [10.75, 6.25],\n",
       " [10.75, 6.5],\n",
       " [10.75, 6.75],\n",
       " [10.75, 7.0],\n",
       " [10.75, 7.25],\n",
       " [10.75, 7.5],\n",
       " [10.75, 7.75],\n",
       " [11.0, 6.0],\n",
       " [11.0, 6.25],\n",
       " [11.0, 6.5],\n",
       " [11.0, 6.75],\n",
       " [11.0, 7.0],\n",
       " [11.0, 7.25],\n",
       " [11.0, 7.5],\n",
       " [11.0, 7.75],\n",
       " [11.25, 6.0],\n",
       " [11.25, 6.25],\n",
       " [11.25, 6.5],\n",
       " [11.25, 6.75],\n",
       " [11.25, 7.0],\n",
       " [11.25, 7.25],\n",
       " [11.25, 7.5],\n",
       " [11.25, 7.75],\n",
       " [11.5, 6.0],\n",
       " [11.5, 6.25],\n",
       " [11.5, 6.5],\n",
       " [11.5, 6.75],\n",
       " [11.5, 7.0],\n",
       " [11.5, 7.25],\n",
       " [11.5, 7.5],\n",
       " [11.5, 7.75],\n",
       " [11.75, 6.0],\n",
       " [11.75, 6.25],\n",
       " [11.75, 6.5],\n",
       " [11.75, 6.75],\n",
       " [11.75, 7.0],\n",
       " [11.75, 7.25],\n",
       " [11.75, 7.5],\n",
       " [11.75, 7.75]]"
      ]
     },
     "execution_count": 154,
     "metadata": {},
     "output_type": "execute_result"
    }
   ],
   "source": [
    "temp_list"
   ]
  },
  {
   "cell_type": "code",
   "execution_count": 155,
   "metadata": {},
   "outputs": [
    {
     "data": {
      "text/plain": [
       "224"
      ]
     },
     "execution_count": 155,
     "metadata": {},
     "output_type": "execute_result"
    }
   ],
   "source": [
    "len(temp_list)"
   ]
  },
  {
   "cell_type": "code",
   "execution_count": 156,
   "metadata": {},
   "outputs": [],
   "source": [
    "df_test=pd.DataFrame(data=temp_list,columns=[\"Feature1\",\"Feature2\"])"
   ]
  },
  {
   "cell_type": "code",
   "execution_count": 157,
   "metadata": {},
   "outputs": [
    {
     "data": {
      "text/html": [
       "<div>\n",
       "<style scoped>\n",
       "    .dataframe tbody tr th:only-of-type {\n",
       "        vertical-align: middle;\n",
       "    }\n",
       "\n",
       "    .dataframe tbody tr th {\n",
       "        vertical-align: top;\n",
       "    }\n",
       "\n",
       "    .dataframe thead th {\n",
       "        text-align: right;\n",
       "    }\n",
       "</style>\n",
       "<table border=\"1\" class=\"dataframe\">\n",
       "  <thead>\n",
       "    <tr style=\"text-align: right;\">\n",
       "      <th></th>\n",
       "      <th>Feature1</th>\n",
       "      <th>Feature2</th>\n",
       "    </tr>\n",
       "  </thead>\n",
       "  <tbody>\n",
       "    <tr>\n",
       "      <th>0</th>\n",
       "      <td>5.0</td>\n",
       "      <td>6.00</td>\n",
       "    </tr>\n",
       "    <tr>\n",
       "      <th>1</th>\n",
       "      <td>5.0</td>\n",
       "      <td>6.25</td>\n",
       "    </tr>\n",
       "    <tr>\n",
       "      <th>2</th>\n",
       "      <td>5.0</td>\n",
       "      <td>6.50</td>\n",
       "    </tr>\n",
       "    <tr>\n",
       "      <th>3</th>\n",
       "      <td>5.0</td>\n",
       "      <td>6.75</td>\n",
       "    </tr>\n",
       "    <tr>\n",
       "      <th>4</th>\n",
       "      <td>5.0</td>\n",
       "      <td>7.00</td>\n",
       "    </tr>\n",
       "  </tbody>\n",
       "</table>\n",
       "</div>"
      ],
      "text/plain": [
       "   Feature1  Feature2\n",
       "0       5.0      6.00\n",
       "1       5.0      6.25\n",
       "2       5.0      6.50\n",
       "3       5.0      6.75\n",
       "4       5.0      7.00"
      ]
     },
     "execution_count": 157,
     "metadata": {},
     "output_type": "execute_result"
    }
   ],
   "source": [
    "df_test.head()"
   ]
  },
  {
   "cell_type": "code",
   "execution_count": 158,
   "metadata": {},
   "outputs": [
    {
     "data": {
      "text/plain": [
       "array([[ 5.  ,  6.  ],\n",
       "       [ 5.  ,  6.25],\n",
       "       [ 5.  ,  6.5 ],\n",
       "       [ 5.  ,  6.75],\n",
       "       [ 5.  ,  7.  ],\n",
       "       [ 5.  ,  7.25],\n",
       "       [ 5.  ,  7.5 ],\n",
       "       [ 5.  ,  7.75],\n",
       "       [ 5.25,  6.  ],\n",
       "       [ 5.25,  6.25],\n",
       "       [ 5.25,  6.5 ],\n",
       "       [ 5.25,  6.75],\n",
       "       [ 5.25,  7.  ],\n",
       "       [ 5.25,  7.25],\n",
       "       [ 5.25,  7.5 ],\n",
       "       [ 5.25,  7.75],\n",
       "       [ 5.5 ,  6.  ],\n",
       "       [ 5.5 ,  6.25],\n",
       "       [ 5.5 ,  6.5 ],\n",
       "       [ 5.5 ,  6.75],\n",
       "       [ 5.5 ,  7.  ],\n",
       "       [ 5.5 ,  7.25],\n",
       "       [ 5.5 ,  7.5 ],\n",
       "       [ 5.5 ,  7.75],\n",
       "       [ 5.75,  6.  ],\n",
       "       [ 5.75,  6.25],\n",
       "       [ 5.75,  6.5 ],\n",
       "       [ 5.75,  6.75],\n",
       "       [ 5.75,  7.  ],\n",
       "       [ 5.75,  7.25],\n",
       "       [ 5.75,  7.5 ],\n",
       "       [ 5.75,  7.75],\n",
       "       [ 6.  ,  6.  ],\n",
       "       [ 6.  ,  6.25],\n",
       "       [ 6.  ,  6.5 ],\n",
       "       [ 6.  ,  6.75],\n",
       "       [ 6.  ,  7.  ],\n",
       "       [ 6.  ,  7.25],\n",
       "       [ 6.  ,  7.5 ],\n",
       "       [ 6.  ,  7.75],\n",
       "       [ 6.25,  6.  ],\n",
       "       [ 6.25,  6.25],\n",
       "       [ 6.25,  6.5 ],\n",
       "       [ 6.25,  6.75],\n",
       "       [ 6.25,  7.  ],\n",
       "       [ 6.25,  7.25],\n",
       "       [ 6.25,  7.5 ],\n",
       "       [ 6.25,  7.75],\n",
       "       [ 6.5 ,  6.  ],\n",
       "       [ 6.5 ,  6.25],\n",
       "       [ 6.5 ,  6.5 ],\n",
       "       [ 6.5 ,  6.75],\n",
       "       [ 6.5 ,  7.  ],\n",
       "       [ 6.5 ,  7.25],\n",
       "       [ 6.5 ,  7.5 ],\n",
       "       [ 6.5 ,  7.75],\n",
       "       [ 6.75,  6.  ],\n",
       "       [ 6.75,  6.25],\n",
       "       [ 6.75,  6.5 ],\n",
       "       [ 6.75,  6.75],\n",
       "       [ 6.75,  7.  ],\n",
       "       [ 6.75,  7.25],\n",
       "       [ 6.75,  7.5 ],\n",
       "       [ 6.75,  7.75],\n",
       "       [ 7.  ,  6.  ],\n",
       "       [ 7.  ,  6.25],\n",
       "       [ 7.  ,  6.5 ],\n",
       "       [ 7.  ,  6.75],\n",
       "       [ 7.  ,  7.  ],\n",
       "       [ 7.  ,  7.25],\n",
       "       [ 7.  ,  7.5 ],\n",
       "       [ 7.  ,  7.75],\n",
       "       [ 7.25,  6.  ],\n",
       "       [ 7.25,  6.25],\n",
       "       [ 7.25,  6.5 ],\n",
       "       [ 7.25,  6.75],\n",
       "       [ 7.25,  7.  ],\n",
       "       [ 7.25,  7.25],\n",
       "       [ 7.25,  7.5 ],\n",
       "       [ 7.25,  7.75],\n",
       "       [ 7.5 ,  6.  ],\n",
       "       [ 7.5 ,  6.25],\n",
       "       [ 7.5 ,  6.5 ],\n",
       "       [ 7.5 ,  6.75],\n",
       "       [ 7.5 ,  7.  ],\n",
       "       [ 7.5 ,  7.25],\n",
       "       [ 7.5 ,  7.5 ],\n",
       "       [ 7.5 ,  7.75],\n",
       "       [ 7.75,  6.  ],\n",
       "       [ 7.75,  6.25],\n",
       "       [ 7.75,  6.5 ],\n",
       "       [ 7.75,  6.75],\n",
       "       [ 7.75,  7.  ],\n",
       "       [ 7.75,  7.25],\n",
       "       [ 7.75,  7.5 ],\n",
       "       [ 7.75,  7.75],\n",
       "       [ 8.  ,  6.  ],\n",
       "       [ 8.  ,  6.25],\n",
       "       [ 8.  ,  6.5 ],\n",
       "       [ 8.  ,  6.75],\n",
       "       [ 8.  ,  7.  ],\n",
       "       [ 8.  ,  7.25],\n",
       "       [ 8.  ,  7.5 ],\n",
       "       [ 8.  ,  7.75],\n",
       "       [ 8.25,  6.  ],\n",
       "       [ 8.25,  6.25],\n",
       "       [ 8.25,  6.5 ],\n",
       "       [ 8.25,  6.75],\n",
       "       [ 8.25,  7.  ],\n",
       "       [ 8.25,  7.25],\n",
       "       [ 8.25,  7.5 ],\n",
       "       [ 8.25,  7.75],\n",
       "       [ 8.5 ,  6.  ],\n",
       "       [ 8.5 ,  6.25],\n",
       "       [ 8.5 ,  6.5 ],\n",
       "       [ 8.5 ,  6.75],\n",
       "       [ 8.5 ,  7.  ],\n",
       "       [ 8.5 ,  7.25],\n",
       "       [ 8.5 ,  7.5 ],\n",
       "       [ 8.5 ,  7.75],\n",
       "       [ 8.75,  6.  ],\n",
       "       [ 8.75,  6.25],\n",
       "       [ 8.75,  6.5 ],\n",
       "       [ 8.75,  6.75],\n",
       "       [ 8.75,  7.  ],\n",
       "       [ 8.75,  7.25],\n",
       "       [ 8.75,  7.5 ],\n",
       "       [ 8.75,  7.75],\n",
       "       [ 9.  ,  6.  ],\n",
       "       [ 9.  ,  6.25],\n",
       "       [ 9.  ,  6.5 ],\n",
       "       [ 9.  ,  6.75],\n",
       "       [ 9.  ,  7.  ],\n",
       "       [ 9.  ,  7.25],\n",
       "       [ 9.  ,  7.5 ],\n",
       "       [ 9.  ,  7.75],\n",
       "       [ 9.25,  6.  ],\n",
       "       [ 9.25,  6.25],\n",
       "       [ 9.25,  6.5 ],\n",
       "       [ 9.25,  6.75],\n",
       "       [ 9.25,  7.  ],\n",
       "       [ 9.25,  7.25],\n",
       "       [ 9.25,  7.5 ],\n",
       "       [ 9.25,  7.75],\n",
       "       [ 9.5 ,  6.  ],\n",
       "       [ 9.5 ,  6.25],\n",
       "       [ 9.5 ,  6.5 ],\n",
       "       [ 9.5 ,  6.75],\n",
       "       [ 9.5 ,  7.  ],\n",
       "       [ 9.5 ,  7.25],\n",
       "       [ 9.5 ,  7.5 ],\n",
       "       [ 9.5 ,  7.75],\n",
       "       [ 9.75,  6.  ],\n",
       "       [ 9.75,  6.25],\n",
       "       [ 9.75,  6.5 ],\n",
       "       [ 9.75,  6.75],\n",
       "       [ 9.75,  7.  ],\n",
       "       [ 9.75,  7.25],\n",
       "       [ 9.75,  7.5 ],\n",
       "       [ 9.75,  7.75],\n",
       "       [10.  ,  6.  ],\n",
       "       [10.  ,  6.25],\n",
       "       [10.  ,  6.5 ],\n",
       "       [10.  ,  6.75],\n",
       "       [10.  ,  7.  ],\n",
       "       [10.  ,  7.25],\n",
       "       [10.  ,  7.5 ],\n",
       "       [10.  ,  7.75],\n",
       "       [10.25,  6.  ],\n",
       "       [10.25,  6.25],\n",
       "       [10.25,  6.5 ],\n",
       "       [10.25,  6.75],\n",
       "       [10.25,  7.  ],\n",
       "       [10.25,  7.25],\n",
       "       [10.25,  7.5 ],\n",
       "       [10.25,  7.75],\n",
       "       [10.5 ,  6.  ],\n",
       "       [10.5 ,  6.25],\n",
       "       [10.5 ,  6.5 ],\n",
       "       [10.5 ,  6.75],\n",
       "       [10.5 ,  7.  ],\n",
       "       [10.5 ,  7.25],\n",
       "       [10.5 ,  7.5 ],\n",
       "       [10.5 ,  7.75],\n",
       "       [10.75,  6.  ],\n",
       "       [10.75,  6.25],\n",
       "       [10.75,  6.5 ],\n",
       "       [10.75,  6.75],\n",
       "       [10.75,  7.  ],\n",
       "       [10.75,  7.25],\n",
       "       [10.75,  7.5 ],\n",
       "       [10.75,  7.75],\n",
       "       [11.  ,  6.  ],\n",
       "       [11.  ,  6.25],\n",
       "       [11.  ,  6.5 ],\n",
       "       [11.  ,  6.75],\n",
       "       [11.  ,  7.  ],\n",
       "       [11.  ,  7.25],\n",
       "       [11.  ,  7.5 ],\n",
       "       [11.  ,  7.75],\n",
       "       [11.25,  6.  ],\n",
       "       [11.25,  6.25],\n",
       "       [11.25,  6.5 ],\n",
       "       [11.25,  6.75],\n",
       "       [11.25,  7.  ],\n",
       "       [11.25,  7.25],\n",
       "       [11.25,  7.5 ],\n",
       "       [11.25,  7.75],\n",
       "       [11.5 ,  6.  ],\n",
       "       [11.5 ,  6.25],\n",
       "       [11.5 ,  6.5 ],\n",
       "       [11.5 ,  6.75],\n",
       "       [11.5 ,  7.  ],\n",
       "       [11.5 ,  7.25],\n",
       "       [11.5 ,  7.5 ],\n",
       "       [11.5 ,  7.75],\n",
       "       [11.75,  6.  ],\n",
       "       [11.75,  6.25],\n",
       "       [11.75,  6.5 ],\n",
       "       [11.75,  6.75],\n",
       "       [11.75,  7.  ],\n",
       "       [11.75,  7.25],\n",
       "       [11.75,  7.5 ],\n",
       "       [11.75,  7.75]])"
      ]
     },
     "execution_count": 158,
     "metadata": {},
     "output_type": "execute_result"
    }
   ],
   "source": [
    "df_test.values"
   ]
  },
  {
   "cell_type": "code",
   "execution_count": 159,
   "metadata": {},
   "outputs": [],
   "source": [
    "df_test=df_test.assign(Ratio=model.predict(np.array(df_test[[\"Feature1\",\"Feature2\"]]))/model1.predict(np.array(df_test[[\"Feature1\",\"Feature2\"]])))"
   ]
  },
  {
   "cell_type": "code",
   "execution_count": 160,
   "metadata": {},
   "outputs": [
    {
     "data": {
      "text/html": [
       "<div>\n",
       "<style scoped>\n",
       "    .dataframe tbody tr th:only-of-type {\n",
       "        vertical-align: middle;\n",
       "    }\n",
       "\n",
       "    .dataframe tbody tr th {\n",
       "        vertical-align: top;\n",
       "    }\n",
       "\n",
       "    .dataframe thead th {\n",
       "        text-align: right;\n",
       "    }\n",
       "</style>\n",
       "<table border=\"1\" class=\"dataframe\">\n",
       "  <thead>\n",
       "    <tr style=\"text-align: right;\">\n",
       "      <th></th>\n",
       "      <th>Feature1</th>\n",
       "      <th>Feature2</th>\n",
       "      <th>Ratio</th>\n",
       "    </tr>\n",
       "  </thead>\n",
       "  <tbody>\n",
       "    <tr>\n",
       "      <th>203</th>\n",
       "      <td>11.25</td>\n",
       "      <td>6.75</td>\n",
       "      <td>2.169576</td>\n",
       "    </tr>\n",
       "    <tr>\n",
       "      <th>204</th>\n",
       "      <td>11.25</td>\n",
       "      <td>7.00</td>\n",
       "      <td>2.169576</td>\n",
       "    </tr>\n",
       "    <tr>\n",
       "      <th>211</th>\n",
       "      <td>11.50</td>\n",
       "      <td>6.75</td>\n",
       "      <td>2.169576</td>\n",
       "    </tr>\n",
       "    <tr>\n",
       "      <th>212</th>\n",
       "      <td>11.50</td>\n",
       "      <td>7.00</td>\n",
       "      <td>2.169576</td>\n",
       "    </tr>\n",
       "    <tr>\n",
       "      <th>202</th>\n",
       "      <td>11.25</td>\n",
       "      <td>6.50</td>\n",
       "      <td>2.143949</td>\n",
       "    </tr>\n",
       "  </tbody>\n",
       "</table>\n",
       "</div>"
      ],
      "text/plain": [
       "     Feature1  Feature2     Ratio\n",
       "203     11.25      6.75  2.169576\n",
       "204     11.25      7.00  2.169576\n",
       "211     11.50      6.75  2.169576\n",
       "212     11.50      7.00  2.169576\n",
       "202     11.25      6.50  2.143949"
      ]
     },
     "execution_count": 160,
     "metadata": {},
     "output_type": "execute_result"
    }
   ],
   "source": [
    "df_test.sort_values(\"Ratio\",ascending=False).head()"
   ]
  },
  {
   "cell_type": "code",
   "execution_count": 167,
   "metadata": {},
   "outputs": [
    {
     "data": {
      "text/plain": [
       "7.500803858726402"
      ]
     },
     "execution_count": 167,
     "metadata": {},
     "output_type": "execute_result"
    }
   ],
   "source": [
    "result.x[0]"
   ]
  },
  {
   "cell_type": "code",
   "execution_count": 170,
   "metadata": {},
   "outputs": [
    {
     "data": {
      "text/html": [
       "<div>\n",
       "<style scoped>\n",
       "    .dataframe tbody tr th:only-of-type {\n",
       "        vertical-align: middle;\n",
       "    }\n",
       "\n",
       "    .dataframe tbody tr th {\n",
       "        vertical-align: top;\n",
       "    }\n",
       "\n",
       "    .dataframe thead th {\n",
       "        text-align: right;\n",
       "    }\n",
       "</style>\n",
       "<table border=\"1\" class=\"dataframe\">\n",
       "  <thead>\n",
       "    <tr style=\"text-align: right;\">\n",
       "      <th></th>\n",
       "      <th>Feature1</th>\n",
       "      <th>Feature2</th>\n",
       "      <th>Ratio</th>\n",
       "    </tr>\n",
       "  </thead>\n",
       "  <tbody>\n",
       "    <tr>\n",
       "      <th>89</th>\n",
       "      <td>7.75</td>\n",
       "      <td>6.25</td>\n",
       "      <td>1.113112</td>\n",
       "    </tr>\n",
       "    <tr>\n",
       "      <th>81</th>\n",
       "      <td>7.50</td>\n",
       "      <td>6.25</td>\n",
       "      <td>1.108321</td>\n",
       "    </tr>\n",
       "    <tr>\n",
       "      <th>88</th>\n",
       "      <td>7.75</td>\n",
       "      <td>6.00</td>\n",
       "      <td>1.071978</td>\n",
       "    </tr>\n",
       "    <tr>\n",
       "      <th>80</th>\n",
       "      <td>7.50</td>\n",
       "      <td>6.00</td>\n",
       "      <td>1.067502</td>\n",
       "    </tr>\n",
       "  </tbody>\n",
       "</table>\n",
       "</div>"
      ],
      "text/plain": [
       "    Feature1  Feature2     Ratio\n",
       "89      7.75      6.25  1.113112\n",
       "81      7.50      6.25  1.108321\n",
       "88      7.75      6.00  1.071978\n",
       "80      7.50      6.00  1.067502"
      ]
     },
     "execution_count": 170,
     "metadata": {},
     "output_type": "execute_result"
    }
   ],
   "source": [
    "df_test[(df_test[\"Feature1\"]>result.x[0]-sample_point_feature1) & \\\n",
    "        (df_test[\"Feature1\"]<result.x[0]+sample_point_feature1) & \\\n",
    "        (df_test[\"Feature2\"]>result.x[1]-sample_point_feature2) & \\\n",
    "        (df_test[\"Feature2\"]<result.x[1]+sample_point_feature2)\n",
    "       ].sort_values(\"Ratio\",ascending=False)"
   ]
  },
  {
   "cell_type": "code",
   "execution_count": 169,
   "metadata": {},
   "outputs": [
    {
     "data": {
      "text/plain": [
       "(array([7.50080386, 6.00141574]), array([-1.11311239]))"
      ]
     },
     "execution_count": 169,
     "metadata": {},
     "output_type": "execute_result"
    }
   ],
   "source": [
    "result.x,result.fun"
   ]
  },
  {
   "cell_type": "code",
   "execution_count": null,
   "metadata": {},
   "outputs": [],
   "source": []
  }
 ],
 "metadata": {
  "kernelspec": {
   "display_name": "Python 3",
   "language": "python",
   "name": "python3"
  },
  "language_info": {
   "codemirror_mode": {
    "name": "ipython",
    "version": 3
   },
   "file_extension": ".py",
   "mimetype": "text/x-python",
   "name": "python",
   "nbconvert_exporter": "python",
   "pygments_lexer": "ipython3",
   "version": "3.7.4"
  }
 },
 "nbformat": 4,
 "nbformat_minor": 2
}
